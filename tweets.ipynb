{
  "nbformat": 4,
  "nbformat_minor": 0,
  "metadata": {
    "colab": {
      "name": "tweets.ipynb",
      "provenance": [],
      "authorship_tag": "ABX9TyPLEpywsJ7jJY5Egn7ksFOC",
      "include_colab_link": true
    },
    "kernelspec": {
      "name": "python3",
      "display_name": "Python 3"
    },
    "language_info": {
      "name": "python"
    }
  },
  "cells": [
    {
      "cell_type": "markdown",
      "metadata": {
        "id": "view-in-github",
        "colab_type": "text"
      },
      "source": [
        "<a href=\"https://colab.research.google.com/github/byambaa1982/mongol_tweets/blob/master/tweets.ipynb\" target=\"_parent\"><img src=\"https://colab.research.google.com/assets/colab-badge.svg\" alt=\"Open In Colab\"/></a>"
      ]
    },
    {
      "cell_type": "markdown",
      "metadata": {
        "id": "Ffn4OeChGmnX"
      },
      "source": [
        "# Sentiment Analysis"
      ]
    },
    {
      "cell_type": "markdown",
      "metadata": {
        "id": "Ut5ZRVMyI2l0"
      },
      "source": [
        "### Aшигласан сангууд"
      ]
    },
    {
      "cell_type": "code",
      "metadata": {
        "id": "QQ2-ctVII04k"
      },
      "source": [
        "#Import the necessary methods from tweepy library\n",
        "from tweepy.streaming import StreamListener\n",
        "from tweepy import OAuthHandler\n",
        "from tweepy import Stream\n",
        "import tweepy\n",
        "import pandas as pd\n",
        "import numpy as np\n",
        "import regex as re\n",
        "import os\n",
        "import json\n",
        "import time\n",
        "import sys\n",
        "import io\n",
        "from datetime import datetime, date, time, timedelta\n",
        "import pandas_gbq"
      ],
      "execution_count": 9,
      "outputs": []
    },
    {
      "cell_type": "markdown",
      "metadata": {
        "id": "38vfBYkGLt1x"
      },
      "source": [
        "\n",
        "# Google Cloud Platform - Using Machine Learning APIs  ).\n",
        "\n",
        "### Security\n",
        "\n",
        "First things first - we need to authenticate against the Google Cloud APIs.\n",
        "\n",
        "#### Getting a Google API Credential.\n",
        "\n",
        "First, visit <a href=\"http://console.cloud.google.com/apis\">API console</a>, choose \"Credentials\" on the left-hand menu.  Choose \"Create Credentials\" and generate an API key for your application. You should probably restrict it by IP address to prevent abuse, but for now, just  leave that field blank and delete the API key after trying out this demo.\n",
        "\n",
        "Then, when you have your key, you will enter it in this first executable cell:"
      ]
    },
    {
      "cell_type": "code",
      "metadata": {
        "colab": {
          "base_uri": "https://localhost:8080/"
        },
        "id": "lXXmlCfsL3kz",
        "outputId": "84303dd0-ad68-4362-d5c7-e9f0e979be96"
      },
      "source": [
        "import getpass\n",
        "\n",
        "APIKEY = getpass.getpass()"
      ],
      "execution_count": 20,
      "outputs": [
        {
          "output_type": "stream",
          "text": [
            "··········\n"
          ],
          "name": "stdout"
        }
      ]
    },
    {
      "cell_type": "markdown",
      "metadata": {
        "id": "TleDaxdoJBQt"
      },
      "source": [
        " ### Access google driver using google credentials"
      ]
    },
    {
      "cell_type": "code",
      "metadata": {
        "colab": {
          "base_uri": "https://localhost:8080/"
        },
        "id": "8zxJ7GEnJV2n",
        "outputId": "c58d51e9-501a-4035-bf75-77a74922b068"
      },
      "source": [
        "from google.colab import drive\n",
        "drive.mount('/content/gdrive', force_remount=True)"
      ],
      "execution_count": 2,
      "outputs": [
        {
          "output_type": "stream",
          "text": [
            "Mounted at /content/gdrive\n"
          ],
          "name": "stdout"
        }
      ]
    },
    {
      "cell_type": "code",
      "metadata": {
        "id": "8pgr_8OfJgB1"
      },
      "source": [
        "os.chdir('/content/gdrive/My Drive/fiverr/tweets')\n",
        "with open(\"twitter_credentials.json\", \"r\") as file:\n",
        "  creds = json.load(file)\n",
        "auth = tweepy.OAuthHandler(creds['CONSUMER_KEY'], creds['CONSUMER_SECRET'])\n",
        "auth.set_access_token(creds['ACCESS_TOKEN'], creds['ACCESS_SECRET'])\n",
        "api = tweepy.API(auth, wait_on_rate_limit=True)\n",
        "os.chdir('/content/gdrive/My Drive/fiverr/byamba')"
      ],
      "execution_count": 22,
      "outputs": []
    },
    {
      "cell_type": "markdown",
      "metadata": {
        "id": "MqvPo9-JLU1T"
      },
      "source": [
        "### Pull data using keyword and date"
      ]
    },
    {
      "cell_type": "code",
      "metadata": {
        "id": "8YTSSIzXLOYv"
      },
      "source": [
        "def get_tweets_csv(search_words, date_since):\n",
        "  new_search = search_words + \" -filter:retweets\"\n",
        "\n",
        "  tweets = tweepy.Cursor(api.search,\n",
        "                              tweet_mode=\"extended\", \n",
        "                              q=new_search,\n",
        "                              lang=\"ru\",\n",
        "                              since=date_since).items(2000)\n",
        "\n",
        "  users_locs = [[tweet.id_str, tweet.user.screen_name, tweet.full_text, tweet.created_at, tweet.user.location\n",
        "                ,tweet.favorite_count,tweet.retweet_count] for tweet in tweets]\n",
        "  users_locs\n",
        "  # Checks if there are coordinates attached to tweets, if so extracts them\n",
        "  # users_locs['Tweet Coordinates'] = users_locs.apply(extract_coordinates,axis=1)\n",
        "\n",
        "  tweet_text = pd.DataFrame(data=users_locs, \n",
        "                      columns=[\"id\", \"user\", \"tweets\",\"date\",\"location\",\"favorites\",\"retweets\"])\n",
        "\n",
        "  # tweet_text['Tweet Coordinates'] = tweet_text.apply(extract_coordinates,axis=1)\n",
        "  # tweet_text.to_csv(search_words+\".csv\", index=False)\n",
        "  return tweet_text"
      ],
      "execution_count": 23,
      "outputs": []
    },
    {
      "cell_type": "markdown",
      "metadata": {
        "id": "PO74-arwVUax"
      },
      "source": [
        "### Sort df by favorites"
      ]
    },
    {
      "cell_type": "code",
      "metadata": {
        "colab": {
          "base_uri": "https://localhost:8080/",
          "height": 419
        },
        "id": "r_BmKmSnU-Ce",
        "outputId": "f6eeb8d3-b0de-42fd-9cc7-66623f1476af"
      },
      "source": [
        "df=get_tweets_csv(\"Хүрэлсүх\", \"2021-05-12\")\n",
        "df=df.sort_values(\"favorites\", ascending=False)\n",
        "df.head(6)\n",
        "df.to_csv('khurelsukh.csv',index=False)\n",
        "df1=pd.read_csv('khurelsukh.csv')\n",
        "df1=df1[[\"user\",\"tweets\",\"favorites\", \"date\"]]\n",
        "df1.head(6)\n",
        "df2=df1.head(100)\n",
        "df2"
      ],
      "execution_count": 25,
      "outputs": [
        {
          "output_type": "execute_result",
          "data": {
            "text/html": [
              "<div>\n",
              "<style scoped>\n",
              "    .dataframe tbody tr th:only-of-type {\n",
              "        vertical-align: middle;\n",
              "    }\n",
              "\n",
              "    .dataframe tbody tr th {\n",
              "        vertical-align: top;\n",
              "    }\n",
              "\n",
              "    .dataframe thead th {\n",
              "        text-align: right;\n",
              "    }\n",
              "</style>\n",
              "<table border=\"1\" class=\"dataframe\">\n",
              "  <thead>\n",
              "    <tr style=\"text-align: right;\">\n",
              "      <th></th>\n",
              "      <th>user</th>\n",
              "      <th>tweets</th>\n",
              "      <th>favorites</th>\n",
              "      <th>date</th>\n",
              "    </tr>\n",
              "  </thead>\n",
              "  <tbody>\n",
              "    <tr>\n",
              "      <th>0</th>\n",
              "      <td>DanzanBolormaa</td>\n",
              "      <td>За Энхбат Хүрэлсүх 2ын ярилцлага үзлээ. Боловс...</td>\n",
              "      <td>274</td>\n",
              "      <td>2021-05-19 04:41:43</td>\n",
              "    </tr>\n",
              "    <tr>\n",
              "      <th>1</th>\n",
              "      <td>g_ganbat</td>\n",
              "      <td>АНУ-ын Мянганы сорилын сангийн УБ-ын усан ханг...</td>\n",
              "      <td>242</td>\n",
              "      <td>2021-05-18 11:37:34</td>\n",
              "    </tr>\n",
              "    <tr>\n",
              "      <th>2</th>\n",
              "      <td>Mandolinchin</td>\n",
              "      <td>Нэр дэвшиж буй 3 эрхэм Энхбат ах, найз Хүрэлсү...</td>\n",
              "      <td>183</td>\n",
              "      <td>2021-05-20 07:39:09</td>\n",
              "    </tr>\n",
              "    <tr>\n",
              "      <th>3</th>\n",
              "      <td>tvdaria</td>\n",
              "      <td>С.Эрдэнэ 2007онд Солонгост ажиллаж бсан иргэди...</td>\n",
              "      <td>162</td>\n",
              "      <td>2021-05-17 05:25:07</td>\n",
              "    </tr>\n",
              "    <tr>\n",
              "      <th>4</th>\n",
              "      <td>batengineer</td>\n",
              "      <td>Хүрэлсүх, Эрдэнэ нарын сурталчилгаа интернет о...</td>\n",
              "      <td>155</td>\n",
              "      <td>2021-05-17 02:41:41</td>\n",
              "    </tr>\n",
              "    <tr>\n",
              "      <th>...</th>\n",
              "      <td>...</td>\n",
              "      <td>...</td>\n",
              "      <td>...</td>\n",
              "      <td>...</td>\n",
              "    </tr>\n",
              "    <tr>\n",
              "      <th>95</th>\n",
              "      <td>amarsanaa</td>\n",
              "      <td>У.Хүрэлсүх: Манай Засгийн газар өрийн удирдлаг...</td>\n",
              "      <td>10</td>\n",
              "      <td>2021-05-19 03:38:10</td>\n",
              "    </tr>\n",
              "    <tr>\n",
              "      <th>96</th>\n",
              "      <td>Burmaa87</td>\n",
              "      <td>МАНай Хүрэлсүх би бол эгэл ардын төлөөлөл гэсэ...</td>\n",
              "      <td>10</td>\n",
              "      <td>2021-05-19 00:20:56</td>\n",
              "    </tr>\n",
              "    <tr>\n",
              "      <th>97</th>\n",
              "      <td>sakuna_mn</td>\n",
              "      <td>У.Хүрэлсүх: Аав ээжийгээ амьд сэрүүн байхад нь...</td>\n",
              "      <td>10</td>\n",
              "      <td>2021-05-20 14:36:07</td>\n",
              "    </tr>\n",
              "    <tr>\n",
              "      <th>98</th>\n",
              "      <td>ariunq</td>\n",
              "      <td>Хүрэлсүх аав ээжийнхээ ачийг хариулсан, цуйван...</td>\n",
              "      <td>10</td>\n",
              "      <td>2021-05-21 00:12:11</td>\n",
              "    </tr>\n",
              "    <tr>\n",
              "      <th>99</th>\n",
              "      <td>Enerell</td>\n",
              "      <td>Хүрэлсүх үү дээ 😂😂😂 https://t.co/C81Oj2r1tt</td>\n",
              "      <td>9</td>\n",
              "      <td>2021-05-15 03:50:23</td>\n",
              "    </tr>\n",
              "  </tbody>\n",
              "</table>\n",
              "<p>100 rows × 4 columns</p>\n",
              "</div>"
            ],
            "text/plain": [
              "              user  ...                 date\n",
              "0   DanzanBolormaa  ...  2021-05-19 04:41:43\n",
              "1         g_ganbat  ...  2021-05-18 11:37:34\n",
              "2     Mandolinchin  ...  2021-05-20 07:39:09\n",
              "3          tvdaria  ...  2021-05-17 05:25:07\n",
              "4      batengineer  ...  2021-05-17 02:41:41\n",
              "..             ...  ...                  ...\n",
              "95       amarsanaa  ...  2021-05-19 03:38:10\n",
              "96        Burmaa87  ...  2021-05-19 00:20:56\n",
              "97       sakuna_mn  ...  2021-05-20 14:36:07\n",
              "98          ariunq  ...  2021-05-21 00:12:11\n",
              "99         Enerell  ...  2021-05-15 03:50:23\n",
              "\n",
              "[100 rows x 4 columns]"
            ]
          },
          "metadata": {
            "tags": []
          },
          "execution_count": 25
        }
      ]
    },
    {
      "cell_type": "code",
      "metadata": {
        "colab": {
          "base_uri": "https://localhost:8080/"
        },
        "id": "fCuAiTfaXNde",
        "outputId": "28b27af2-b20b-49ed-ac51-0beef60c479f"
      },
      "source": [
        "print('Total tweets:{}, Total favorites:{}'.format(df.shape[0], df.favorites.sum()))"
      ],
      "execution_count": 31,
      "outputs": [
        {
          "output_type": "stream",
          "text": [
            "Total tweets:803, Total favorites:5424\n"
          ],
          "name": "stdout"
        }
      ]
    },
    {
      "cell_type": "markdown",
      "metadata": {
        "id": "ldsqKFfXV6Ny"
      },
      "source": [
        "### Sentiment analysis using Google NLP API"
      ]
    },
    {
      "cell_type": "code",
      "metadata": {
        "id": "NBNUUXNCWAcG"
      },
      "source": [
        "lservice = build('language', 'v1beta1', developerKey=APIKEY)\n",
        "def do_sentiment(quote):\n",
        "  response = lservice.documents().analyzeSentiment(\n",
        "  body={\n",
        "    'document': {\n",
        "        'type': 'PLAIN_TEXT',\n",
        "        'content': quote\n",
        "    }\n",
        "  }).execute()\n",
        "  polarity = response['documentSentiment']['polarity']\n",
        "  # magnitude = response['documentSentiment']['magnitude']\n",
        "  return polarity"
      ],
      "execution_count": 26,
      "outputs": []
    },
    {
      "cell_type": "markdown",
      "metadata": {
        "id": "4o3DUcOeMRAK"
      },
      "source": [
        "### Before calling NLP API, we need to translate Mongolian tweets to English\n",
        "### using google translate API"
      ]
    },
    {
      "cell_type": "code",
      "metadata": {
        "colab": {
          "base_uri": "https://localhost:8080/"
        },
        "id": "e6_ra0dLMtK7",
        "outputId": "8e29b146-d776-48e4-dbb3-7fdda6bd2790"
      },
      "source": [
        "# running Translate API\n",
        "from googleapiclient.discovery import build\n",
        "service = build('translate', 'v2', developerKey=APIKEY)\n",
        "\n",
        "# use the service\n",
        "inputs = ['is it really this easy?', 'amazing technology', 'wow']\n",
        "outputs = service.translations().list(source='en', target='mn', q=inputs).execute()\n",
        "# print outputs\n",
        "for input, output in zip(inputs, outputs['translations']):\n",
        "  print(u\"{0} -> {1}\".format(input, output['translatedText']))"
      ],
      "execution_count": 24,
      "outputs": [
        {
          "output_type": "stream",
          "text": [
            "is it really this easy? -> энэ үнэхээр амархан уу?\n",
            "amazing technology -> гайхалтай технологи\n",
            "wow -> хөөх\n"
          ],
          "name": "stdout"
        }
      ]
    },
    {
      "cell_type": "code",
      "metadata": {
        "id": "G8EyLLWmMf2t"
      },
      "source": [
        "def translate_it(inputs):\n",
        "  outputs = service.translations().list(source='mn', target='en', q=inputs).execute()\n",
        "  return outputs['translations'][0]['translatedText']"
      ],
      "execution_count": 4,
      "outputs": []
    },
    {
      "cell_type": "markdown",
      "metadata": {
        "id": "hFWF6n6iNo5R"
      },
      "source": [
        "### Run NLP API over each tweets to find polarity"
      ]
    },
    {
      "cell_type": "code",
      "metadata": {
        "colab": {
          "base_uri": "https://localhost:8080/"
        },
        "id": "RexKs6-ZNr_2",
        "outputId": "30a4aeec-af9d-4333-d5c6-d0ef2797ff4c"
      },
      "source": [
        "df2['english']=df2.tweets.map(lambda x:translate_it(x))\n",
        "df2['polarity']=df2.english.map(lambda x:do_sentiment(x))"
      ],
      "execution_count": 28,
      "outputs": [
        {
          "output_type": "stream",
          "text": [
            "/usr/local/lib/python3.7/dist-packages/ipykernel_launcher.py:1: SettingWithCopyWarning: \n",
            "A value is trying to be set on a copy of a slice from a DataFrame.\n",
            "Try using .loc[row_indexer,col_indexer] = value instead\n",
            "\n",
            "See the caveats in the documentation: https://pandas.pydata.org/pandas-docs/stable/user_guide/indexing.html#returning-a-view-versus-a-copy\n",
            "  \"\"\"Entry point for launching an IPython kernel.\n",
            "/usr/local/lib/python3.7/dist-packages/ipykernel_launcher.py:2: SettingWithCopyWarning: \n",
            "A value is trying to be set on a copy of a slice from a DataFrame.\n",
            "Try using .loc[row_indexer,col_indexer] = value instead\n",
            "\n",
            "See the caveats in the documentation: https://pandas.pydata.org/pandas-docs/stable/user_guide/indexing.html#returning-a-view-versus-a-copy\n",
            "  \n"
          ],
          "name": "stderr"
        }
      ]
    },
    {
      "cell_type": "code",
      "metadata": {
        "colab": {
          "base_uri": "https://localhost:8080/",
          "height": 419
        },
        "id": "9CZ3XrN2Wt9P",
        "outputId": "a448f0af-30b5-43e2-cee2-815d41a7316b"
      },
      "source": [
        "df2=df2[['user','polarity','tweets','favorites']]\n",
        "df2"
      ],
      "execution_count": 30,
      "outputs": [
        {
          "output_type": "execute_result",
          "data": {
            "text/html": [
              "<div>\n",
              "<style scoped>\n",
              "    .dataframe tbody tr th:only-of-type {\n",
              "        vertical-align: middle;\n",
              "    }\n",
              "\n",
              "    .dataframe tbody tr th {\n",
              "        vertical-align: top;\n",
              "    }\n",
              "\n",
              "    .dataframe thead th {\n",
              "        text-align: right;\n",
              "    }\n",
              "</style>\n",
              "<table border=\"1\" class=\"dataframe\">\n",
              "  <thead>\n",
              "    <tr style=\"text-align: right;\">\n",
              "      <th></th>\n",
              "      <th>user</th>\n",
              "      <th>polarity</th>\n",
              "      <th>tweets</th>\n",
              "      <th>favorites</th>\n",
              "    </tr>\n",
              "  </thead>\n",
              "  <tbody>\n",
              "    <tr>\n",
              "      <th>0</th>\n",
              "      <td>DanzanBolormaa</td>\n",
              "      <td>0.4</td>\n",
              "      <td>За Энхбат Хүрэлсүх 2ын ярилцлага үзлээ. Боловс...</td>\n",
              "      <td>274</td>\n",
              "    </tr>\n",
              "    <tr>\n",
              "      <th>1</th>\n",
              "      <td>g_ganbat</td>\n",
              "      <td>-0.8</td>\n",
              "      <td>АНУ-ын Мянганы сорилын сангийн УБ-ын усан ханг...</td>\n",
              "      <td>242</td>\n",
              "    </tr>\n",
              "    <tr>\n",
              "      <th>2</th>\n",
              "      <td>Mandolinchin</td>\n",
              "      <td>0.9</td>\n",
              "      <td>Нэр дэвшиж буй 3 эрхэм Энхбат ах, найз Хүрэлсү...</td>\n",
              "      <td>183</td>\n",
              "    </tr>\n",
              "    <tr>\n",
              "      <th>3</th>\n",
              "      <td>tvdaria</td>\n",
              "      <td>-0.1</td>\n",
              "      <td>С.Эрдэнэ 2007онд Солонгост ажиллаж бсан иргэди...</td>\n",
              "      <td>162</td>\n",
              "    </tr>\n",
              "    <tr>\n",
              "      <th>4</th>\n",
              "      <td>batengineer</td>\n",
              "      <td>-1.0</td>\n",
              "      <td>Хүрэлсүх, Эрдэнэ нарын сурталчилгаа интернет о...</td>\n",
              "      <td>155</td>\n",
              "    </tr>\n",
              "    <tr>\n",
              "      <th>...</th>\n",
              "      <td>...</td>\n",
              "      <td>...</td>\n",
              "      <td>...</td>\n",
              "      <td>...</td>\n",
              "    </tr>\n",
              "    <tr>\n",
              "      <th>95</th>\n",
              "      <td>amarsanaa</td>\n",
              "      <td>-0.1</td>\n",
              "      <td>У.Хүрэлсүх: Манай Засгийн газар өрийн удирдлаг...</td>\n",
              "      <td>10</td>\n",
              "    </tr>\n",
              "    <tr>\n",
              "      <th>96</th>\n",
              "      <td>Burmaa87</td>\n",
              "      <td>-1.0</td>\n",
              "      <td>МАНай Хүрэлсүх би бол эгэл ардын төлөөлөл гэсэ...</td>\n",
              "      <td>10</td>\n",
              "    </tr>\n",
              "    <tr>\n",
              "      <th>97</th>\n",
              "      <td>sakuna_mn</td>\n",
              "      <td>1.0</td>\n",
              "      <td>У.Хүрэлсүх: Аав ээжийгээ амьд сэрүүн байхад нь...</td>\n",
              "      <td>10</td>\n",
              "    </tr>\n",
              "    <tr>\n",
              "      <th>98</th>\n",
              "      <td>ariunq</td>\n",
              "      <td>-0.4</td>\n",
              "      <td>Хүрэлсүх аав ээжийнхээ ачийг хариулсан, цуйван...</td>\n",
              "      <td>10</td>\n",
              "    </tr>\n",
              "    <tr>\n",
              "      <th>99</th>\n",
              "      <td>Enerell</td>\n",
              "      <td>-1.0</td>\n",
              "      <td>Хүрэлсүх үү дээ 😂😂😂 https://t.co/C81Oj2r1tt</td>\n",
              "      <td>9</td>\n",
              "    </tr>\n",
              "  </tbody>\n",
              "</table>\n",
              "<p>100 rows × 4 columns</p>\n",
              "</div>"
            ],
            "text/plain": [
              "              user  ...  favorites\n",
              "0   DanzanBolormaa  ...        274\n",
              "1         g_ganbat  ...        242\n",
              "2     Mandolinchin  ...        183\n",
              "3          tvdaria  ...        162\n",
              "4      batengineer  ...        155\n",
              "..             ...  ...        ...\n",
              "95       amarsanaa  ...         10\n",
              "96        Burmaa87  ...         10\n",
              "97       sakuna_mn  ...         10\n",
              "98          ariunq  ...         10\n",
              "99         Enerell  ...          9\n",
              "\n",
              "[100 rows x 4 columns]"
            ]
          },
          "metadata": {
            "tags": []
          },
          "execution_count": 30
        }
      ]
    },
    {
      "cell_type": "code",
      "metadata": {
        "colab": {
          "base_uri": "https://localhost:8080/"
        },
        "id": "fw1kDI3iSf2S",
        "outputId": "71ab9178-ea14-4228-c3ec-27bbb8fab6d4"
      },
      "source": [
        "print('Total tweets:{}, Total favorites:{}'.format(df.shape[0], df.favorites.sum()))"
      ],
      "execution_count": 17,
      "outputs": [
        {
          "output_type": "stream",
          "text": [
            "Total tweets:951, Total favorites:6243\n"
          ],
          "name": "stdout"
        }
      ]
    },
    {
      "cell_type": "code",
      "metadata": {
        "colab": {
          "base_uri": "https://localhost:8080/"
        },
        "id": "JDsCPHjGOwC0",
        "outputId": "50fd0b66-8c7a-4397-886b-527bf6469071"
      },
      "source": [
        "# table_id='tweets.enkhbat'\n",
        "# project_id = 'twittersheet-275317'\n",
        "# pandas_gbq.to_gbq(df, table_id, project_id=project_id ,if_exists='replace')"
      ],
      "execution_count": 15,
      "outputs": [
        {
          "output_type": "stream",
          "text": [
            "1it [00:02,  2.77s/it]\n"
          ],
          "name": "stderr"
        }
      ]
    }
  ]
}