{
  "nbformat": 4,
  "nbformat_minor": 0,
  "metadata": {
    "colab": {
      "name": "tweets.ipynb",
      "provenance": [],
      "authorship_tag": "ABX9TyMOn0FRoGUrgamZMnlPAWf5",
      "include_colab_link": true
    },
    "kernelspec": {
      "name": "python3",
      "display_name": "Python 3"
    },
    "language_info": {
      "name": "python"
    }
  },
  "cells": [
    {
      "cell_type": "markdown",
      "metadata": {
        "id": "view-in-github",
        "colab_type": "text"
      },
      "source": [
        "<a href=\"https://colab.research.google.com/github/byambaa1982/mongol_tweets/blob/master/tweets.ipynb\" target=\"_parent\"><img src=\"https://colab.research.google.com/assets/colab-badge.svg\" alt=\"Open In Colab\"/></a>"
      ]
    },
    {
      "cell_type": "markdown",
      "metadata": {
        "id": "Ffn4OeChGmnX"
      },
      "source": [
        "# Sentiment Analysis"
      ]
    },
    {
      "cell_type": "markdown",
      "metadata": {
        "id": "Ut5ZRVMyI2l0"
      },
      "source": [
        "### Aшигласан сангууд"
      ]
    },
    {
      "cell_type": "code",
      "metadata": {
        "id": "QQ2-ctVII04k"
      },
      "source": [
        "#Import the necessary methods from tweepy library\n",
        "from tweepy.streaming import StreamListener\n",
        "from tweepy import OAuthHandler\n",
        "from tweepy import Stream\n",
        "import tweepy\n",
        "import pandas as pd\n",
        "import numpy as np\n",
        "import regex as re\n",
        "import os\n",
        "import json\n",
        "import time\n",
        "import sys\n",
        "import io\n",
        "from datetime import datetime, date, time, timedelta\n",
        "import pandas_gbq"
      ],
      "execution_count": 1,
      "outputs": []
    },
    {
      "cell_type": "markdown",
      "metadata": {
        "id": "38vfBYkGLt1x"
      },
      "source": [
        "\n",
        "# Google Cloud Platform - Using Machine Learning APIs  ).\n",
        "\n",
        "### Security\n",
        "\n",
        "First things first - we need to authenticate against the Google Cloud APIs.\n",
        "\n",
        "#### Getting a Google API Credential.\n",
        "\n",
        "First, visit <a href=\"http://console.cloud.google.com/apis\">API console</a>, choose \"Credentials\" on the left-hand menu.  Choose \"Create Credentials\" and generate an API key for your application. You should probably restrict it by IP address to prevent abuse, but for now, just  leave that field blank and delete the API key after trying out this demo.\n",
        "\n",
        "Then, when you have your key, you will enter it in this first executable cell:"
      ]
    },
    {
      "cell_type": "code",
      "metadata": {
        "colab": {
          "base_uri": "https://localhost:8080/"
        },
        "id": "lXXmlCfsL3kz",
        "outputId": "f16bce62-18d7-4ad9-9b7f-a1b548b30170"
      },
      "source": [
        "import getpass\n",
        "\n",
        "APIKEY = getpass.getpass()"
      ],
      "execution_count": 2,
      "outputs": [
        {
          "output_type": "stream",
          "text": [
            "··········\n"
          ],
          "name": "stdout"
        }
      ]
    },
    {
      "cell_type": "markdown",
      "metadata": {
        "id": "TleDaxdoJBQt"
      },
      "source": [
        " ### Access google driver using google credentials"
      ]
    },
    {
      "cell_type": "code",
      "metadata": {
        "colab": {
          "base_uri": "https://localhost:8080/"
        },
        "id": "8zxJ7GEnJV2n",
        "outputId": "5c19405b-6462-4130-ddcc-a45b2e88da94"
      },
      "source": [
        "from google.colab import drive\n",
        "drive.mount('/content/gdrive', force_remount=True)"
      ],
      "execution_count": 3,
      "outputs": [
        {
          "output_type": "stream",
          "text": [
            "Mounted at /content/gdrive\n"
          ],
          "name": "stdout"
        }
      ]
    },
    {
      "cell_type": "code",
      "metadata": {
        "id": "8pgr_8OfJgB1"
      },
      "source": [
        "os.chdir('/content/gdrive/My Drive/fiverr/tweets')\n",
        "with open(\"twitter_credentials.json\", \"r\") as file:\n",
        "  creds = json.load(file)\n",
        "auth = tweepy.OAuthHandler(creds['CONSUMER_KEY'], creds['CONSUMER_SECRET'])\n",
        "auth.set_access_token(creds['ACCESS_TOKEN'], creds['ACCESS_SECRET'])\n",
        "api = tweepy.API(auth, wait_on_rate_limit=True)\n",
        "os.chdir('/content/gdrive/My Drive/fiverr/byamba')"
      ],
      "execution_count": 4,
      "outputs": []
    },
    {
      "cell_type": "markdown",
      "metadata": {
        "id": "MqvPo9-JLU1T"
      },
      "source": [
        "### Pull data using keyword and date"
      ]
    },
    {
      "cell_type": "code",
      "metadata": {
        "id": "8YTSSIzXLOYv"
      },
      "source": [
        "def get_tweets_csv(search_words, date_since):\n",
        "  new_search = search_words + \" -filter:retweets\"\n",
        "\n",
        "  tweets = tweepy.Cursor(api.search,\n",
        "                              tweet_mode=\"extended\", \n",
        "                              q=new_search,\n",
        "                              lang=\"ru\",\n",
        "                              since=date_since).items(2000)\n",
        "\n",
        "  users_locs = [[tweet.id_str, tweet.user.screen_name, tweet.full_text, tweet.created_at, tweet.user.location\n",
        "                ,tweet.favorite_count,tweet.retweet_count] for tweet in tweets]\n",
        "  users_locs\n",
        "  # Checks if there are coordinates attached to tweets, if so extracts them\n",
        "  # users_locs['Tweet Coordinates'] = users_locs.apply(extract_coordinates,axis=1)\n",
        "\n",
        "  tweet_text = pd.DataFrame(data=users_locs, \n",
        "                      columns=[\"id\", \"user\", \"tweets\",\"date\",\"location\",\"favorites\",\"retweets\"])\n",
        "\n",
        "  # tweet_text['Tweet Coordinates'] = tweet_text.apply(extract_coordinates,axis=1)\n",
        "  # tweet_text.to_csv(search_words+\".csv\", index=False)\n",
        "  return tweet_text"
      ],
      "execution_count": 5,
      "outputs": []
    },
    {
      "cell_type": "markdown",
      "metadata": {
        "id": "PO74-arwVUax"
      },
      "source": [
        "### Sort df by favorites"
      ]
    },
    {
      "cell_type": "code",
      "metadata": {
        "colab": {
          "base_uri": "https://localhost:8080/",
          "height": 419
        },
        "id": "r_BmKmSnU-Ce",
        "outputId": "f6eeb8d3-b0de-42fd-9cc7-66623f1476af"
      },
      "source": [
        "df=get_tweets_csv(\"Хүрэлсүх\", \"2021-05-12\")\n",
        "df=df.sort_values(\"favorites\", ascending=False)\n",
        "df.head(6)\n",
        "df.to_csv('khurelsukh.csv',index=False)\n",
        "df1=pd.read_csv('khurelsukh.csv')\n",
        "df1=df1[[\"user\",\"tweets\",\"favorites\", \"date\"]]\n",
        "df1.head(6)\n",
        "df2=df1.head(100)\n",
        "df2"
      ],
      "execution_count": null,
      "outputs": [
        {
          "output_type": "execute_result",
          "data": {
            "text/html": [
              "<div>\n",
              "<style scoped>\n",
              "    .dataframe tbody tr th:only-of-type {\n",
              "        vertical-align: middle;\n",
              "    }\n",
              "\n",
              "    .dataframe tbody tr th {\n",
              "        vertical-align: top;\n",
              "    }\n",
              "\n",
              "    .dataframe thead th {\n",
              "        text-align: right;\n",
              "    }\n",
              "</style>\n",
              "<table border=\"1\" class=\"dataframe\">\n",
              "  <thead>\n",
              "    <tr style=\"text-align: right;\">\n",
              "      <th></th>\n",
              "      <th>user</th>\n",
              "      <th>tweets</th>\n",
              "      <th>favorites</th>\n",
              "      <th>date</th>\n",
              "    </tr>\n",
              "  </thead>\n",
              "  <tbody>\n",
              "    <tr>\n",
              "      <th>0</th>\n",
              "      <td>DanzanBolormaa</td>\n",
              "      <td>За Энхбат Хүрэлсүх 2ын ярилцлага үзлээ. Боловс...</td>\n",
              "      <td>274</td>\n",
              "      <td>2021-05-19 04:41:43</td>\n",
              "    </tr>\n",
              "    <tr>\n",
              "      <th>1</th>\n",
              "      <td>g_ganbat</td>\n",
              "      <td>АНУ-ын Мянганы сорилын сангийн УБ-ын усан ханг...</td>\n",
              "      <td>242</td>\n",
              "      <td>2021-05-18 11:37:34</td>\n",
              "    </tr>\n",
              "    <tr>\n",
              "      <th>2</th>\n",
              "      <td>Mandolinchin</td>\n",
              "      <td>Нэр дэвшиж буй 3 эрхэм Энхбат ах, найз Хүрэлсү...</td>\n",
              "      <td>183</td>\n",
              "      <td>2021-05-20 07:39:09</td>\n",
              "    </tr>\n",
              "    <tr>\n",
              "      <th>3</th>\n",
              "      <td>tvdaria</td>\n",
              "      <td>С.Эрдэнэ 2007онд Солонгост ажиллаж бсан иргэди...</td>\n",
              "      <td>162</td>\n",
              "      <td>2021-05-17 05:25:07</td>\n",
              "    </tr>\n",
              "    <tr>\n",
              "      <th>4</th>\n",
              "      <td>batengineer</td>\n",
              "      <td>Хүрэлсүх, Эрдэнэ нарын сурталчилгаа интернет о...</td>\n",
              "      <td>155</td>\n",
              "      <td>2021-05-17 02:41:41</td>\n",
              "    </tr>\n",
              "    <tr>\n",
              "      <th>...</th>\n",
              "      <td>...</td>\n",
              "      <td>...</td>\n",
              "      <td>...</td>\n",
              "      <td>...</td>\n",
              "    </tr>\n",
              "    <tr>\n",
              "      <th>95</th>\n",
              "      <td>amarsanaa</td>\n",
              "      <td>У.Хүрэлсүх: Манай Засгийн газар өрийн удирдлаг...</td>\n",
              "      <td>10</td>\n",
              "      <td>2021-05-19 03:38:10</td>\n",
              "    </tr>\n",
              "    <tr>\n",
              "      <th>96</th>\n",
              "      <td>Burmaa87</td>\n",
              "      <td>МАНай Хүрэлсүх би бол эгэл ардын төлөөлөл гэсэ...</td>\n",
              "      <td>10</td>\n",
              "      <td>2021-05-19 00:20:56</td>\n",
              "    </tr>\n",
              "    <tr>\n",
              "      <th>97</th>\n",
              "      <td>sakuna_mn</td>\n",
              "      <td>У.Хүрэлсүх: Аав ээжийгээ амьд сэрүүн байхад нь...</td>\n",
              "      <td>10</td>\n",
              "      <td>2021-05-20 14:36:07</td>\n",
              "    </tr>\n",
              "    <tr>\n",
              "      <th>98</th>\n",
              "      <td>ariunq</td>\n",
              "      <td>Хүрэлсүх аав ээжийнхээ ачийг хариулсан, цуйван...</td>\n",
              "      <td>10</td>\n",
              "      <td>2021-05-21 00:12:11</td>\n",
              "    </tr>\n",
              "    <tr>\n",
              "      <th>99</th>\n",
              "      <td>Enerell</td>\n",
              "      <td>Хүрэлсүх үү дээ 😂😂😂 https://t.co/C81Oj2r1tt</td>\n",
              "      <td>9</td>\n",
              "      <td>2021-05-15 03:50:23</td>\n",
              "    </tr>\n",
              "  </tbody>\n",
              "</table>\n",
              "<p>100 rows × 4 columns</p>\n",
              "</div>"
            ],
            "text/plain": [
              "              user  ...                 date\n",
              "0   DanzanBolormaa  ...  2021-05-19 04:41:43\n",
              "1         g_ganbat  ...  2021-05-18 11:37:34\n",
              "2     Mandolinchin  ...  2021-05-20 07:39:09\n",
              "3          tvdaria  ...  2021-05-17 05:25:07\n",
              "4      batengineer  ...  2021-05-17 02:41:41\n",
              "..             ...  ...                  ...\n",
              "95       amarsanaa  ...  2021-05-19 03:38:10\n",
              "96        Burmaa87  ...  2021-05-19 00:20:56\n",
              "97       sakuna_mn  ...  2021-05-20 14:36:07\n",
              "98          ariunq  ...  2021-05-21 00:12:11\n",
              "99         Enerell  ...  2021-05-15 03:50:23\n",
              "\n",
              "[100 rows x 4 columns]"
            ]
          },
          "metadata": {
            "tags": []
          },
          "execution_count": 25
        }
      ]
    },
    {
      "cell_type": "code",
      "metadata": {
        "colab": {
          "base_uri": "https://localhost:8080/"
        },
        "id": "fCuAiTfaXNde",
        "outputId": "28b27af2-b20b-49ed-ac51-0beef60c479f"
      },
      "source": [
        "print('Total tweets:{}, Total favorites:{}'.format(df.shape[0], df.favorites.sum()))"
      ],
      "execution_count": null,
      "outputs": [
        {
          "output_type": "stream",
          "text": [
            "Total tweets:803, Total favorites:5424\n"
          ],
          "name": "stdout"
        }
      ]
    },
    {
      "cell_type": "markdown",
      "metadata": {
        "id": "ldsqKFfXV6Ny"
      },
      "source": [
        "### Sentiment analysis using Google NLP API"
      ]
    },
    {
      "cell_type": "code",
      "metadata": {
        "id": "NBNUUXNCWAcG"
      },
      "source": [
        "lservice = build('language', 'v1beta1', developerKey=APIKEY)\n",
        "def do_sentiment(quote):\n",
        "  try:\n",
        "    response = lservice.documents().analyzeSentiment(\n",
        "    body={\n",
        "      'document': {\n",
        "          'type': 'PLAIN_TEXT',\n",
        "          'content': quote\n",
        "      }\n",
        "    }).execute()\n",
        "    polarity = response['documentSentiment']['polarity']\n",
        "    # magnitude = response['documentSentiment']['magnitude']\n",
        "    return polarity\n",
        "  except:\n",
        "    polarity=0\n",
        "    return polarity"
      ],
      "execution_count": 19,
      "outputs": []
    },
    {
      "cell_type": "markdown",
      "metadata": {
        "id": "4o3DUcOeMRAK"
      },
      "source": [
        "### Before calling NLP API, we need to translate Mongolian tweets to English\n",
        "### using google translate API"
      ]
    },
    {
      "cell_type": "code",
      "metadata": {
        "colab": {
          "base_uri": "https://localhost:8080/"
        },
        "id": "e6_ra0dLMtK7",
        "outputId": "d852fc5c-617b-40d0-964d-86ab4a2f3080"
      },
      "source": [
        "# running Translate API\n",
        "from googleapiclient.discovery import build\n",
        "service = build('translate', 'v2', developerKey=APIKEY)\n",
        "\n",
        "# use the service\n",
        "inputs = ['is it really this easy?', 'amazing technology', 'wow']\n",
        "outputs = service.translations().list(source='en', target='mn', q=inputs).execute()\n",
        "# print outputs\n",
        "for input, output in zip(inputs, outputs['translations']):\n",
        "  print(u\"{0} -> {1}\".format(input, output['translatedText']))"
      ],
      "execution_count": 12,
      "outputs": [
        {
          "output_type": "stream",
          "text": [
            "is it really this easy? -> энэ үнэхээр амархан уу?\n",
            "amazing technology -> гайхалтай технологи\n",
            "wow -> хөөх\n"
          ],
          "name": "stdout"
        }
      ]
    },
    {
      "cell_type": "code",
      "metadata": {
        "id": "G8EyLLWmMf2t"
      },
      "source": [
        "def translate_it(inputs):\n",
        "  outputs = service.translations().list(source='mn', target='en', q=inputs).execute()\n",
        "  return outputs['translations'][0]['translatedText']"
      ],
      "execution_count": 14,
      "outputs": []
    },
    {
      "cell_type": "markdown",
      "metadata": {
        "id": "hFWF6n6iNo5R"
      },
      "source": [
        "### Run NLP API over each tweets to find polarity"
      ]
    },
    {
      "cell_type": "code",
      "metadata": {
        "colab": {
          "base_uri": "https://localhost:8080/"
        },
        "id": "RexKs6-ZNr_2",
        "outputId": "30a4aeec-af9d-4333-d5c6-d0ef2797ff4c"
      },
      "source": [
        "df2['english']=df2.tweets.map(lambda x:translate_it(x))\n",
        "df2['polarity']=df2.english.map(lambda x:do_sentiment(x))"
      ],
      "execution_count": null,
      "outputs": [
        {
          "output_type": "stream",
          "text": [
            "/usr/local/lib/python3.7/dist-packages/ipykernel_launcher.py:1: SettingWithCopyWarning: \n",
            "A value is trying to be set on a copy of a slice from a DataFrame.\n",
            "Try using .loc[row_indexer,col_indexer] = value instead\n",
            "\n",
            "See the caveats in the documentation: https://pandas.pydata.org/pandas-docs/stable/user_guide/indexing.html#returning-a-view-versus-a-copy\n",
            "  \"\"\"Entry point for launching an IPython kernel.\n",
            "/usr/local/lib/python3.7/dist-packages/ipykernel_launcher.py:2: SettingWithCopyWarning: \n",
            "A value is trying to be set on a copy of a slice from a DataFrame.\n",
            "Try using .loc[row_indexer,col_indexer] = value instead\n",
            "\n",
            "See the caveats in the documentation: https://pandas.pydata.org/pandas-docs/stable/user_guide/indexing.html#returning-a-view-versus-a-copy\n",
            "  \n"
          ],
          "name": "stderr"
        }
      ]
    },
    {
      "cell_type": "code",
      "metadata": {
        "colab": {
          "base_uri": "https://localhost:8080/",
          "height": 419
        },
        "id": "9CZ3XrN2Wt9P",
        "outputId": "a448f0af-30b5-43e2-cee2-815d41a7316b"
      },
      "source": [
        "df2=df2[['user','polarity','tweets','favorites']]\n",
        "df2"
      ],
      "execution_count": null,
      "outputs": [
        {
          "output_type": "execute_result",
          "data": {
            "text/html": [
              "<div>\n",
              "<style scoped>\n",
              "    .dataframe tbody tr th:only-of-type {\n",
              "        vertical-align: middle;\n",
              "    }\n",
              "\n",
              "    .dataframe tbody tr th {\n",
              "        vertical-align: top;\n",
              "    }\n",
              "\n",
              "    .dataframe thead th {\n",
              "        text-align: right;\n",
              "    }\n",
              "</style>\n",
              "<table border=\"1\" class=\"dataframe\">\n",
              "  <thead>\n",
              "    <tr style=\"text-align: right;\">\n",
              "      <th></th>\n",
              "      <th>user</th>\n",
              "      <th>polarity</th>\n",
              "      <th>tweets</th>\n",
              "      <th>favorites</th>\n",
              "    </tr>\n",
              "  </thead>\n",
              "  <tbody>\n",
              "    <tr>\n",
              "      <th>0</th>\n",
              "      <td>DanzanBolormaa</td>\n",
              "      <td>0.4</td>\n",
              "      <td>За Энхбат Хүрэлсүх 2ын ярилцлага үзлээ. Боловс...</td>\n",
              "      <td>274</td>\n",
              "    </tr>\n",
              "    <tr>\n",
              "      <th>1</th>\n",
              "      <td>g_ganbat</td>\n",
              "      <td>-0.8</td>\n",
              "      <td>АНУ-ын Мянганы сорилын сангийн УБ-ын усан ханг...</td>\n",
              "      <td>242</td>\n",
              "    </tr>\n",
              "    <tr>\n",
              "      <th>2</th>\n",
              "      <td>Mandolinchin</td>\n",
              "      <td>0.9</td>\n",
              "      <td>Нэр дэвшиж буй 3 эрхэм Энхбат ах, найз Хүрэлсү...</td>\n",
              "      <td>183</td>\n",
              "    </tr>\n",
              "    <tr>\n",
              "      <th>3</th>\n",
              "      <td>tvdaria</td>\n",
              "      <td>-0.1</td>\n",
              "      <td>С.Эрдэнэ 2007онд Солонгост ажиллаж бсан иргэди...</td>\n",
              "      <td>162</td>\n",
              "    </tr>\n",
              "    <tr>\n",
              "      <th>4</th>\n",
              "      <td>batengineer</td>\n",
              "      <td>-1.0</td>\n",
              "      <td>Хүрэлсүх, Эрдэнэ нарын сурталчилгаа интернет о...</td>\n",
              "      <td>155</td>\n",
              "    </tr>\n",
              "    <tr>\n",
              "      <th>...</th>\n",
              "      <td>...</td>\n",
              "      <td>...</td>\n",
              "      <td>...</td>\n",
              "      <td>...</td>\n",
              "    </tr>\n",
              "    <tr>\n",
              "      <th>95</th>\n",
              "      <td>amarsanaa</td>\n",
              "      <td>-0.1</td>\n",
              "      <td>У.Хүрэлсүх: Манай Засгийн газар өрийн удирдлаг...</td>\n",
              "      <td>10</td>\n",
              "    </tr>\n",
              "    <tr>\n",
              "      <th>96</th>\n",
              "      <td>Burmaa87</td>\n",
              "      <td>-1.0</td>\n",
              "      <td>МАНай Хүрэлсүх би бол эгэл ардын төлөөлөл гэсэ...</td>\n",
              "      <td>10</td>\n",
              "    </tr>\n",
              "    <tr>\n",
              "      <th>97</th>\n",
              "      <td>sakuna_mn</td>\n",
              "      <td>1.0</td>\n",
              "      <td>У.Хүрэлсүх: Аав ээжийгээ амьд сэрүүн байхад нь...</td>\n",
              "      <td>10</td>\n",
              "    </tr>\n",
              "    <tr>\n",
              "      <th>98</th>\n",
              "      <td>ariunq</td>\n",
              "      <td>-0.4</td>\n",
              "      <td>Хүрэлсүх аав ээжийнхээ ачийг хариулсан, цуйван...</td>\n",
              "      <td>10</td>\n",
              "    </tr>\n",
              "    <tr>\n",
              "      <th>99</th>\n",
              "      <td>Enerell</td>\n",
              "      <td>-1.0</td>\n",
              "      <td>Хүрэлсүх үү дээ 😂😂😂 https://t.co/C81Oj2r1tt</td>\n",
              "      <td>9</td>\n",
              "    </tr>\n",
              "  </tbody>\n",
              "</table>\n",
              "<p>100 rows × 4 columns</p>\n",
              "</div>"
            ],
            "text/plain": [
              "              user  ...  favorites\n",
              "0   DanzanBolormaa  ...        274\n",
              "1         g_ganbat  ...        242\n",
              "2     Mandolinchin  ...        183\n",
              "3          tvdaria  ...        162\n",
              "4      batengineer  ...        155\n",
              "..             ...  ...        ...\n",
              "95       amarsanaa  ...         10\n",
              "96        Burmaa87  ...         10\n",
              "97       sakuna_mn  ...         10\n",
              "98          ariunq  ...         10\n",
              "99         Enerell  ...          9\n",
              "\n",
              "[100 rows x 4 columns]"
            ]
          },
          "metadata": {
            "tags": []
          },
          "execution_count": 30
        }
      ]
    },
    {
      "cell_type": "code",
      "metadata": {
        "colab": {
          "base_uri": "https://localhost:8080/"
        },
        "id": "fw1kDI3iSf2S",
        "outputId": "71ab9178-ea14-4228-c3ec-27bbb8fab6d4"
      },
      "source": [
        "print('Total tweets:{}, Total favorites:{}'.format(df.shape[0], df.favorites.sum()))"
      ],
      "execution_count": null,
      "outputs": [
        {
          "output_type": "stream",
          "text": [
            "Total tweets:951, Total favorites:6243\n"
          ],
          "name": "stdout"
        }
      ]
    },
    {
      "cell_type": "code",
      "metadata": {
        "colab": {
          "base_uri": "https://localhost:8080/"
        },
        "id": "JDsCPHjGOwC0",
        "outputId": "50fd0b66-8c7a-4397-886b-527bf6469071"
      },
      "source": [
        "# table_id='tweets.enkhbat'\n",
        "# project_id = 'twittersheet-275317'\n",
        "# pandas_gbq.to_gbq(df, table_id, project_id=project_id ,if_exists='replace')"
      ],
      "execution_count": null,
      "outputs": [
        {
          "output_type": "stream",
          "text": [
            "1it [00:02,  2.77s/it]\n"
          ],
          "name": "stderr"
        }
      ]
    },
    {
      "cell_type": "markdown",
      "metadata": {
        "id": "p3uCGqHZ4cx_"
      },
      "source": [
        "### Visualization"
      ]
    },
    {
      "cell_type": "code",
      "metadata": {
        "colab": {
          "base_uri": "https://localhost:8080/"
        },
        "id": "r3m36fwQ5q89",
        "outputId": "3e32230a-cd49-4c05-82d2-3cbc3485eb85"
      },
      "source": [
        "!ls"
      ],
      "execution_count": 6,
      "outputs": [
        {
          "output_type": "stream",
          "text": [
            "ananbuzar.csv\t enkhbat_v2.csv  khurelsukh.csv\t\t     tweeters_v2.csv\n",
            "anandbuzar.csv\t erdene.csv\t mongolian_top_tweeters.csv  tweets.ipynb\n",
            "an.csv\t\t fiverr.csv\t samarsaihan.csv\n",
            "battulga_v2.csv  hook.csv\t teneg_bandi.csv\n",
            "enkhbat.csv\t hook_tweet.csv  top_active_tweeters.csv\n"
          ],
          "name": "stdout"
        }
      ]
    },
    {
      "cell_type": "code",
      "metadata": {
        "id": "Iy9hZ0uw5vQv"
      },
      "source": [
        "df_k=pd.read_csv('khurelsukh.csv')"
      ],
      "execution_count": 9,
      "outputs": []
    },
    {
      "cell_type": "code",
      "metadata": {
        "id": "-0BnZ-AW8NiG"
      },
      "source": [
        "df_e=pd.read_csv('enkhbat_v2.csv')"
      ],
      "execution_count": 37,
      "outputs": []
    },
    {
      "cell_type": "code",
      "metadata": {
        "colab": {
          "base_uri": "https://localhost:8080/",
          "height": 419
        },
        "id": "Dm5A6R_XCg18",
        "outputId": "c8f645be-8ff1-4c76-dc7d-6b0bc38780e0"
      },
      "source": [
        "df_e"
      ],
      "execution_count": 38,
      "outputs": [
        {
          "output_type": "execute_result",
          "data": {
            "text/html": [
              "<div>\n",
              "<style scoped>\n",
              "    .dataframe tbody tr th:only-of-type {\n",
              "        vertical-align: middle;\n",
              "    }\n",
              "\n",
              "    .dataframe tbody tr th {\n",
              "        vertical-align: top;\n",
              "    }\n",
              "\n",
              "    .dataframe thead th {\n",
              "        text-align: right;\n",
              "    }\n",
              "</style>\n",
              "<table border=\"1\" class=\"dataframe\">\n",
              "  <thead>\n",
              "    <tr style=\"text-align: right;\">\n",
              "      <th></th>\n",
              "      <th>id</th>\n",
              "      <th>user</th>\n",
              "      <th>tweets</th>\n",
              "      <th>date</th>\n",
              "      <th>location</th>\n",
              "      <th>favorites</th>\n",
              "      <th>retweets</th>\n",
              "    </tr>\n",
              "  </thead>\n",
              "  <tbody>\n",
              "    <tr>\n",
              "      <th>0</th>\n",
              "      <td>1394216127404802050</td>\n",
              "      <td>enkhbat</td>\n",
              "      <td>Уралын өвөл. Оюутан цаг.  Энхбат, Оюунаа хоёр....</td>\n",
              "      <td>2021-05-17 09:00:02</td>\n",
              "      <td>Ulaanbaatar</td>\n",
              "      <td>846</td>\n",
              "      <td>110</td>\n",
              "    </tr>\n",
              "    <tr>\n",
              "      <th>1</th>\n",
              "      <td>1394245887501619204</td>\n",
              "      <td>enkhbat</td>\n",
              "      <td>Инженер Энхбат. 1990. Компьютер, сүлжээний тух...</td>\n",
              "      <td>2021-05-17 10:58:18</td>\n",
              "      <td>Ulaanbaatar</td>\n",
              "      <td>676</td>\n",
              "      <td>140</td>\n",
              "    </tr>\n",
              "    <tr>\n",
              "      <th>2</th>\n",
              "      <td>1394862654108278787</td>\n",
              "      <td>bambgar19</td>\n",
              "      <td>Э.Энхбат начин ухаан орж,амь нас нь үхлээс хол...</td>\n",
              "      <td>2021-05-19 03:49:06</td>\n",
              "      <td>Mongolia</td>\n",
              "      <td>448</td>\n",
              "      <td>90</td>\n",
              "    </tr>\n",
              "    <tr>\n",
              "      <th>3</th>\n",
              "      <td>1393810304996364289</td>\n",
              "      <td>batengineer</td>\n",
              "      <td>Нэр дэвшигч Энхбат гуайг муулах өнцөг олох гэж...</td>\n",
              "      <td>2021-05-16 06:07:27</td>\n",
              "      <td>Mongolia</td>\n",
              "      <td>391</td>\n",
              "      <td>164</td>\n",
              "    </tr>\n",
              "    <tr>\n",
              "      <th>4</th>\n",
              "      <td>1392845222057418759</td>\n",
              "      <td>Sanchir_philo</td>\n",
              "      <td>Энхбат гуайг дэмжиж буй хүмүүс сэхээтэн,оюунла...</td>\n",
              "      <td>2021-05-13 14:12:33</td>\n",
              "      <td>Wien, Österreich</td>\n",
              "      <td>378</td>\n",
              "      <td>124</td>\n",
              "    </tr>\n",
              "    <tr>\n",
              "      <th>...</th>\n",
              "      <td>...</td>\n",
              "      <td>...</td>\n",
              "      <td>...</td>\n",
              "      <td>...</td>\n",
              "      <td>...</td>\n",
              "      <td>...</td>\n",
              "      <td>...</td>\n",
              "    </tr>\n",
              "    <tr>\n",
              "      <th>1344</th>\n",
              "      <td>1394198984135254017</td>\n",
              "      <td>tuvshee1128</td>\n",
              "      <td>@Mandukhai_ Тийм шүү.Энхбат интернэт оруулж ир...</td>\n",
              "      <td>2021-05-17 07:51:55</td>\n",
              "      <td>NaN</td>\n",
              "      <td>0</td>\n",
              "      <td>1</td>\n",
              "    </tr>\n",
              "    <tr>\n",
              "      <th>1345</th>\n",
              "      <td>1394197629177720834</td>\n",
              "      <td>anba_mk</td>\n",
              "      <td>Хаха өөр нэг залуу хийх л байсан. Энхбат азтай...</td>\n",
              "      <td>2021-05-17 07:46:32</td>\n",
              "      <td>NaN</td>\n",
              "      <td>0</td>\n",
              "      <td>1</td>\n",
              "    </tr>\n",
              "    <tr>\n",
              "      <th>1346</th>\n",
              "      <td>1394195462836539393</td>\n",
              "      <td>tulgaa68</td>\n",
              "      <td>@Mandukhai_ Өөр хэн нэгэн Энхбат бх л бсан даа...</td>\n",
              "      <td>2021-05-17 07:37:55</td>\n",
              "      <td>Mongolia</td>\n",
              "      <td>0</td>\n",
              "      <td>0</td>\n",
              "    </tr>\n",
              "    <tr>\n",
              "      <th>1347</th>\n",
              "      <td>1394193792094322689</td>\n",
              "      <td>idevkhtei_irgen</td>\n",
              "      <td>Д. Энхбат болон У.Хүрэлсүх гэдэг 2 хүний тухай...</td>\n",
              "      <td>2021-05-17 07:31:17</td>\n",
              "      <td>Улаанбаатар. Монгол Улс</td>\n",
              "      <td>0</td>\n",
              "      <td>0</td>\n",
              "    </tr>\n",
              "    <tr>\n",
              "      <th>1348</th>\n",
              "      <td>1392681150779383809</td>\n",
              "      <td>gbulgaa</td>\n",
              "      <td>Энхбат гуайг ямар ч байсан сонгочихмоор байна ...</td>\n",
              "      <td>2021-05-13 03:20:35</td>\n",
              "      <td>Эрдэнэт</td>\n",
              "      <td>0</td>\n",
              "      <td>0</td>\n",
              "    </tr>\n",
              "  </tbody>\n",
              "</table>\n",
              "<p>1349 rows × 7 columns</p>\n",
              "</div>"
            ],
            "text/plain": [
              "                       id             user  ... favorites retweets\n",
              "0     1394216127404802050          enkhbat  ...       846      110\n",
              "1     1394245887501619204          enkhbat  ...       676      140\n",
              "2     1394862654108278787        bambgar19  ...       448       90\n",
              "3     1393810304996364289      batengineer  ...       391      164\n",
              "4     1392845222057418759    Sanchir_philo  ...       378      124\n",
              "...                   ...              ...  ...       ...      ...\n",
              "1344  1394198984135254017      tuvshee1128  ...         0        1\n",
              "1345  1394197629177720834          anba_mk  ...         0        1\n",
              "1346  1394195462836539393         tulgaa68  ...         0        0\n",
              "1347  1394193792094322689  idevkhtei_irgen  ...         0        0\n",
              "1348  1392681150779383809          gbulgaa  ...         0        0\n",
              "\n",
              "[1349 rows x 7 columns]"
            ]
          },
          "metadata": {
            "tags": []
          },
          "execution_count": 38
        }
      ]
    },
    {
      "cell_type": "code",
      "metadata": {
        "id": "T4Yl3gWMCw7d"
      },
      "source": [
        "df_e=df_e.head(800)"
      ],
      "execution_count": 39,
      "outputs": []
    },
    {
      "cell_type": "code",
      "metadata": {
        "colab": {
          "base_uri": "https://localhost:8080/"
        },
        "id": "iOejxaQY6Cfb",
        "outputId": "4ea0993e-0d5d-42e3-b845-289e098f587e"
      },
      "source": [
        "# df_e['english']=df_e.tweets.map(lambda x:translate_it(x))\n",
        "df_e['polarity']=df_e.english.map(lambda x:do_sentiment(x))"
      ],
      "execution_count": 41,
      "outputs": [
        {
          "output_type": "stream",
          "text": [
            "/usr/local/lib/python3.7/dist-packages/ipykernel_launcher.py:2: SettingWithCopyWarning:\n",
            "\n",
            "\n",
            "A value is trying to be set on a copy of a slice from a DataFrame.\n",
            "Try using .loc[row_indexer,col_indexer] = value instead\n",
            "\n",
            "See the caveats in the documentation: https://pandas.pydata.org/pandas-docs/stable/user_guide/indexing.html#returning-a-view-versus-a-copy\n",
            "\n"
          ],
          "name": "stderr"
        }
      ]
    },
    {
      "cell_type": "code",
      "metadata": {
        "id": "egfOTM9C97TZ"
      },
      "source": [
        "def labeling(x):\n",
        "  if x >0.3:\n",
        "    return 'positive'\n",
        "  elif x<-0.3:\n",
        "    return 'negative'\n",
        "  else:\n",
        "    return 'neutral'"
      ],
      "execution_count": 25,
      "outputs": []
    },
    {
      "cell_type": "markdown",
      "metadata": {
        "id": "xLLe65goEBYe"
      },
      "source": [
        "### U.Khurelsukh"
      ]
    },
    {
      "cell_type": "code",
      "metadata": {
        "colab": {
          "base_uri": "https://localhost:8080/",
          "height": 306
        },
        "id": "zB4C6pAN4fec",
        "outputId": "d869de8f-c58d-4043-cfa1-ad8db890bb27"
      },
      "source": [
        "\n",
        "df_k['Expression Label'] = df_k.polarity.map(lambda x: labeling(x) )\n",
        "df_k.tail()"
      ],
      "execution_count": 60,
      "outputs": [
        {
          "output_type": "execute_result",
          "data": {
            "text/html": [
              "<div>\n",
              "<style scoped>\n",
              "    .dataframe tbody tr th:only-of-type {\n",
              "        vertical-align: middle;\n",
              "    }\n",
              "\n",
              "    .dataframe tbody tr th {\n",
              "        vertical-align: top;\n",
              "    }\n",
              "\n",
              "    .dataframe thead th {\n",
              "        text-align: right;\n",
              "    }\n",
              "</style>\n",
              "<table border=\"1\" class=\"dataframe\">\n",
              "  <thead>\n",
              "    <tr style=\"text-align: right;\">\n",
              "      <th></th>\n",
              "      <th>id</th>\n",
              "      <th>user</th>\n",
              "      <th>tweets</th>\n",
              "      <th>date</th>\n",
              "      <th>location</th>\n",
              "      <th>favorites</th>\n",
              "      <th>retweets</th>\n",
              "      <th>english</th>\n",
              "      <th>polarity</th>\n",
              "      <th>Expression Label</th>\n",
              "    </tr>\n",
              "  </thead>\n",
              "  <tbody>\n",
              "    <tr>\n",
              "      <th>798</th>\n",
              "      <td>1393908343693926402</td>\n",
              "      <td>Narantuya_P</td>\n",
              "      <td>Гадуур хүмүүс Хүрэлсүхээ сонгоноо л гэж байна....</td>\n",
              "      <td>2021-05-16 12:37:01</td>\n",
              "      <td>Mongolia</td>\n",
              "      <td>0</td>\n",
              "      <td>1</td>\n",
              "      <td>Outsiders say they will choose Khurelsukhe. On...</td>\n",
              "      <td>0.2</td>\n",
              "      <td>neutral</td>\n",
              "    </tr>\n",
              "    <tr>\n",
              "      <th>799</th>\n",
              "      <td>1395261188313804800</td>\n",
              "      <td>BaagiiJr</td>\n",
              "      <td>Хүрэлсүх дайныг, танкыг, бууг зохиосон хүн шүү...</td>\n",
              "      <td>2021-05-20 06:12:44</td>\n",
              "      <td>NaN</td>\n",
              "      <td>0</td>\n",
              "      <td>0</td>\n",
              "      <td>He invented the war of touch, tanks and guns</td>\n",
              "      <td>1.0</td>\n",
              "      <td>positive</td>\n",
              "    </tr>\n",
              "    <tr>\n",
              "      <th>800</th>\n",
              "      <td>1395259293209808897</td>\n",
              "      <td>Bilbook0815</td>\n",
              "      <td>Монгол улсад хууль дүрэм байна уу?Суртчилгаа э...</td>\n",
              "      <td>2021-05-20 06:05:12</td>\n",
              "      <td>NaN</td>\n",
              "      <td>0</td>\n",
              "      <td>0</td>\n",
              "      <td>Is there any law in Mongolia? U.Khurelsukh sta...</td>\n",
              "      <td>-0.5</td>\n",
              "      <td>negative</td>\n",
              "    </tr>\n",
              "    <tr>\n",
              "      <th>801</th>\n",
              "      <td>1393916458548166664</td>\n",
              "      <td>Amarsanaa006</td>\n",
              "      <td>@Aldar51 @ariunq Хүрэлсүх ганцаараа биш шүү бу...</td>\n",
              "      <td>2021-05-16 13:09:16</td>\n",
              "      <td>Mongolia</td>\n",
              "      <td>0</td>\n",
              "      <td>0</td>\n",
              "      <td>@ Aldar51 @ariunq Khurelsukh is not alone, eve...</td>\n",
              "      <td>-1.0</td>\n",
              "      <td>negative</td>\n",
              "    </tr>\n",
              "    <tr>\n",
              "      <th>802</th>\n",
              "      <td>1394295007725584384</td>\n",
              "      <td>AnjinZaVoid</td>\n",
              "      <td>@MunkhchuluunS Хүрэлсүх байгаагүй бол сайхаг б...</td>\n",
              "      <td>2021-05-17 14:13:29</td>\n",
              "      <td>ub</td>\n",
              "      <td>0</td>\n",
              "      <td>0</td>\n",
              "      <td>@MunkhchuluunS It wouldn&amp;#39;t be nice without...</td>\n",
              "      <td>1.0</td>\n",
              "      <td>positive</td>\n",
              "    </tr>\n",
              "  </tbody>\n",
              "</table>\n",
              "</div>"
            ],
            "text/plain": [
              "                      id          user  ... polarity Expression Label\n",
              "798  1393908343693926402   Narantuya_P  ...      0.2          neutral\n",
              "799  1395261188313804800      BaagiiJr  ...      1.0         positive\n",
              "800  1395259293209808897   Bilbook0815  ...     -0.5         negative\n",
              "801  1393916458548166664  Amarsanaa006  ...     -1.0         negative\n",
              "802  1394295007725584384   AnjinZaVoid  ...      1.0         positive\n",
              "\n",
              "[5 rows x 10 columns]"
            ]
          },
          "metadata": {
            "tags": []
          },
          "execution_count": 60
        }
      ]
    },
    {
      "cell_type": "code",
      "metadata": {
        "colab": {
          "base_uri": "https://localhost:8080/",
          "height": 780
        },
        "id": "niUdf4tp-kW4",
        "outputId": "965f5c71-1040-47ac-8d81-83e0f5190e98"
      },
      "source": [
        "new1 = df_k.groupby('Expression Label').count()\n",
        "x = list(new1['polarity'])\n",
        "y = list(new1.index)\n",
        "tuple_list = list(zip(x,y))\n",
        "\n",
        "df = pd.DataFrame(tuple_list, columns=['x','y'])\n",
        "\n",
        "df['color'] = 'blue'\n",
        "df['color'][1] = 'red'\n",
        "df['color'][2] = 'green'\n",
        "\n",
        "import plotly.graph_objects as go\n",
        "fig = go.Figure(go.Bar(x=df['x'],\n",
        "                y=df['y'],\n",
        "                orientation ='h',\n",
        "                marker={'color': df['color']}))\n",
        "fig.update_layout(\n",
        "    title={\n",
        "        'text': \"The latest 802 tweets about the president candidate U.Khurelsukh\",\n",
        "        'y':0.9,\n",
        "        'x':0.5,\n",
        "        'xanchor': 'center',\n",
        "        'yanchor': 'top'})\n",
        "\n",
        "\n",
        "fig.show()"
      ],
      "execution_count": 33,
      "outputs": [
        {
          "output_type": "stream",
          "text": [
            "/usr/local/lib/python3.7/dist-packages/ipykernel_launcher.py:9: SettingWithCopyWarning:\n",
            "\n",
            "\n",
            "A value is trying to be set on a copy of a slice from a DataFrame\n",
            "\n",
            "See the caveats in the documentation: https://pandas.pydata.org/pandas-docs/stable/user_guide/indexing.html#returning-a-view-versus-a-copy\n",
            "\n",
            "/usr/local/lib/python3.7/dist-packages/ipykernel_launcher.py:10: SettingWithCopyWarning:\n",
            "\n",
            "\n",
            "A value is trying to be set on a copy of a slice from a DataFrame\n",
            "\n",
            "See the caveats in the documentation: https://pandas.pydata.org/pandas-docs/stable/user_guide/indexing.html#returning-a-view-versus-a-copy\n",
            "\n"
          ],
          "name": "stderr"
        },
        {
          "output_type": "display_data",
          "data": {
            "text/html": [
              "<html>\n",
              "<head><meta charset=\"utf-8\" /></head>\n",
              "<body>\n",
              "    <div>\n",
              "            <script src=\"https://cdnjs.cloudflare.com/ajax/libs/mathjax/2.7.5/MathJax.js?config=TeX-AMS-MML_SVG\"></script><script type=\"text/javascript\">if (window.MathJax) {MathJax.Hub.Config({SVG: {font: \"STIX-Web\"}});}</script>\n",
              "                <script type=\"text/javascript\">window.PlotlyConfig = {MathJaxConfig: 'local'};</script>\n",
              "        <script src=\"https://cdn.plot.ly/plotly-latest.min.js\"></script>    \n",
              "            <div id=\"7a304160-68df-41a7-a42e-7d29c91fd57d\" class=\"plotly-graph-div\" style=\"height:525px; width:100%;\"></div>\n",
              "            <script type=\"text/javascript\">\n",
              "                \n",
              "                    window.PLOTLYENV=window.PLOTLYENV || {};\n",
              "                    \n",
              "                if (document.getElementById(\"7a304160-68df-41a7-a42e-7d29c91fd57d\")) {\n",
              "                    Plotly.newPlot(\n",
              "                        '7a304160-68df-41a7-a42e-7d29c91fd57d',\n",
              "                        [{\"marker\": {\"color\": [\"blue\", \"red\", \"green\"]}, \"orientation\": \"h\", \"type\": \"bar\", \"x\": [391, 138, 274], \"y\": [\"negative\", \"neutral\", \"positive\"]}],\n",
              "                        {\"template\": {\"data\": {\"bar\": [{\"error_x\": {\"color\": \"#2a3f5f\"}, \"error_y\": {\"color\": \"#2a3f5f\"}, \"marker\": {\"line\": {\"color\": \"#E5ECF6\", \"width\": 0.5}}, \"type\": \"bar\"}], \"barpolar\": [{\"marker\": {\"line\": {\"color\": \"#E5ECF6\", \"width\": 0.5}}, \"type\": \"barpolar\"}], \"carpet\": [{\"aaxis\": {\"endlinecolor\": \"#2a3f5f\", \"gridcolor\": \"white\", \"linecolor\": \"white\", \"minorgridcolor\": \"white\", \"startlinecolor\": \"#2a3f5f\"}, \"baxis\": {\"endlinecolor\": \"#2a3f5f\", \"gridcolor\": \"white\", \"linecolor\": \"white\", \"minorgridcolor\": \"white\", \"startlinecolor\": \"#2a3f5f\"}, \"type\": \"carpet\"}], \"choropleth\": [{\"colorbar\": {\"outlinewidth\": 0, \"ticks\": \"\"}, \"type\": \"choropleth\"}], \"contour\": [{\"colorbar\": {\"outlinewidth\": 0, \"ticks\": \"\"}, \"colorscale\": [[0.0, \"#0d0887\"], [0.1111111111111111, \"#46039f\"], [0.2222222222222222, \"#7201a8\"], [0.3333333333333333, \"#9c179e\"], [0.4444444444444444, \"#bd3786\"], [0.5555555555555556, \"#d8576b\"], [0.6666666666666666, \"#ed7953\"], [0.7777777777777778, \"#fb9f3a\"], [0.8888888888888888, \"#fdca26\"], [1.0, \"#f0f921\"]], \"type\": \"contour\"}], \"contourcarpet\": [{\"colorbar\": {\"outlinewidth\": 0, \"ticks\": \"\"}, \"type\": \"contourcarpet\"}], \"heatmap\": [{\"colorbar\": {\"outlinewidth\": 0, \"ticks\": \"\"}, \"colorscale\": [[0.0, \"#0d0887\"], [0.1111111111111111, \"#46039f\"], [0.2222222222222222, \"#7201a8\"], [0.3333333333333333, \"#9c179e\"], [0.4444444444444444, \"#bd3786\"], [0.5555555555555556, \"#d8576b\"], [0.6666666666666666, \"#ed7953\"], [0.7777777777777778, \"#fb9f3a\"], [0.8888888888888888, \"#fdca26\"], [1.0, \"#f0f921\"]], \"type\": \"heatmap\"}], \"heatmapgl\": [{\"colorbar\": {\"outlinewidth\": 0, \"ticks\": \"\"}, \"colorscale\": [[0.0, \"#0d0887\"], [0.1111111111111111, \"#46039f\"], [0.2222222222222222, \"#7201a8\"], [0.3333333333333333, \"#9c179e\"], [0.4444444444444444, \"#bd3786\"], [0.5555555555555556, \"#d8576b\"], [0.6666666666666666, \"#ed7953\"], [0.7777777777777778, \"#fb9f3a\"], [0.8888888888888888, \"#fdca26\"], [1.0, \"#f0f921\"]], \"type\": \"heatmapgl\"}], \"histogram\": [{\"marker\": {\"colorbar\": {\"outlinewidth\": 0, \"ticks\": \"\"}}, \"type\": \"histogram\"}], \"histogram2d\": [{\"colorbar\": {\"outlinewidth\": 0, \"ticks\": \"\"}, \"colorscale\": [[0.0, \"#0d0887\"], [0.1111111111111111, \"#46039f\"], [0.2222222222222222, \"#7201a8\"], [0.3333333333333333, \"#9c179e\"], [0.4444444444444444, \"#bd3786\"], [0.5555555555555556, \"#d8576b\"], [0.6666666666666666, \"#ed7953\"], [0.7777777777777778, \"#fb9f3a\"], [0.8888888888888888, \"#fdca26\"], [1.0, \"#f0f921\"]], \"type\": \"histogram2d\"}], \"histogram2dcontour\": [{\"colorbar\": {\"outlinewidth\": 0, \"ticks\": \"\"}, \"colorscale\": [[0.0, \"#0d0887\"], [0.1111111111111111, \"#46039f\"], [0.2222222222222222, \"#7201a8\"], [0.3333333333333333, \"#9c179e\"], [0.4444444444444444, \"#bd3786\"], [0.5555555555555556, \"#d8576b\"], [0.6666666666666666, \"#ed7953\"], [0.7777777777777778, \"#fb9f3a\"], [0.8888888888888888, \"#fdca26\"], [1.0, \"#f0f921\"]], \"type\": \"histogram2dcontour\"}], \"mesh3d\": [{\"colorbar\": {\"outlinewidth\": 0, \"ticks\": \"\"}, \"type\": \"mesh3d\"}], \"parcoords\": [{\"line\": {\"colorbar\": {\"outlinewidth\": 0, \"ticks\": \"\"}}, \"type\": \"parcoords\"}], \"pie\": [{\"automargin\": true, \"type\": \"pie\"}], \"scatter\": [{\"marker\": {\"colorbar\": {\"outlinewidth\": 0, \"ticks\": \"\"}}, \"type\": \"scatter\"}], \"scatter3d\": [{\"line\": {\"colorbar\": {\"outlinewidth\": 0, \"ticks\": \"\"}}, \"marker\": {\"colorbar\": {\"outlinewidth\": 0, \"ticks\": \"\"}}, \"type\": \"scatter3d\"}], \"scattercarpet\": [{\"marker\": {\"colorbar\": {\"outlinewidth\": 0, \"ticks\": \"\"}}, \"type\": \"scattercarpet\"}], \"scattergeo\": [{\"marker\": {\"colorbar\": {\"outlinewidth\": 0, \"ticks\": \"\"}}, \"type\": \"scattergeo\"}], \"scattergl\": [{\"marker\": {\"colorbar\": {\"outlinewidth\": 0, \"ticks\": \"\"}}, \"type\": \"scattergl\"}], \"scattermapbox\": [{\"marker\": {\"colorbar\": {\"outlinewidth\": 0, \"ticks\": \"\"}}, \"type\": \"scattermapbox\"}], \"scatterpolar\": [{\"marker\": {\"colorbar\": {\"outlinewidth\": 0, \"ticks\": \"\"}}, \"type\": \"scatterpolar\"}], \"scatterpolargl\": [{\"marker\": {\"colorbar\": {\"outlinewidth\": 0, \"ticks\": \"\"}}, \"type\": \"scatterpolargl\"}], \"scatterternary\": [{\"marker\": {\"colorbar\": {\"outlinewidth\": 0, \"ticks\": \"\"}}, \"type\": \"scatterternary\"}], \"surface\": [{\"colorbar\": {\"outlinewidth\": 0, \"ticks\": \"\"}, \"colorscale\": [[0.0, \"#0d0887\"], [0.1111111111111111, \"#46039f\"], [0.2222222222222222, \"#7201a8\"], [0.3333333333333333, \"#9c179e\"], [0.4444444444444444, \"#bd3786\"], [0.5555555555555556, \"#d8576b\"], [0.6666666666666666, \"#ed7953\"], [0.7777777777777778, \"#fb9f3a\"], [0.8888888888888888, \"#fdca26\"], [1.0, \"#f0f921\"]], \"type\": \"surface\"}], \"table\": [{\"cells\": {\"fill\": {\"color\": \"#EBF0F8\"}, \"line\": {\"color\": \"white\"}}, \"header\": {\"fill\": {\"color\": \"#C8D4E3\"}, \"line\": {\"color\": \"white\"}}, \"type\": \"table\"}]}, \"layout\": {\"annotationdefaults\": {\"arrowcolor\": \"#2a3f5f\", \"arrowhead\": 0, \"arrowwidth\": 1}, \"coloraxis\": {\"colorbar\": {\"outlinewidth\": 0, \"ticks\": \"\"}}, \"colorscale\": {\"diverging\": [[0, \"#8e0152\"], [0.1, \"#c51b7d\"], [0.2, \"#de77ae\"], [0.3, \"#f1b6da\"], [0.4, \"#fde0ef\"], [0.5, \"#f7f7f7\"], [0.6, \"#e6f5d0\"], [0.7, \"#b8e186\"], [0.8, \"#7fbc41\"], [0.9, \"#4d9221\"], [1, \"#276419\"]], \"sequential\": [[0.0, \"#0d0887\"], [0.1111111111111111, \"#46039f\"], [0.2222222222222222, \"#7201a8\"], [0.3333333333333333, \"#9c179e\"], [0.4444444444444444, \"#bd3786\"], [0.5555555555555556, \"#d8576b\"], [0.6666666666666666, \"#ed7953\"], [0.7777777777777778, \"#fb9f3a\"], [0.8888888888888888, \"#fdca26\"], [1.0, \"#f0f921\"]], \"sequentialminus\": [[0.0, \"#0d0887\"], [0.1111111111111111, \"#46039f\"], [0.2222222222222222, \"#7201a8\"], [0.3333333333333333, \"#9c179e\"], [0.4444444444444444, \"#bd3786\"], [0.5555555555555556, \"#d8576b\"], [0.6666666666666666, \"#ed7953\"], [0.7777777777777778, \"#fb9f3a\"], [0.8888888888888888, \"#fdca26\"], [1.0, \"#f0f921\"]]}, \"colorway\": [\"#636efa\", \"#EF553B\", \"#00cc96\", \"#ab63fa\", \"#FFA15A\", \"#19d3f3\", \"#FF6692\", \"#B6E880\", \"#FF97FF\", \"#FECB52\"], \"font\": {\"color\": \"#2a3f5f\"}, \"geo\": {\"bgcolor\": \"white\", \"lakecolor\": \"white\", \"landcolor\": \"#E5ECF6\", \"showlakes\": true, \"showland\": true, \"subunitcolor\": \"white\"}, \"hoverlabel\": {\"align\": \"left\"}, \"hovermode\": \"closest\", \"mapbox\": {\"style\": \"light\"}, \"paper_bgcolor\": \"white\", \"plot_bgcolor\": \"#E5ECF6\", \"polar\": {\"angularaxis\": {\"gridcolor\": \"white\", \"linecolor\": \"white\", \"ticks\": \"\"}, \"bgcolor\": \"#E5ECF6\", \"radialaxis\": {\"gridcolor\": \"white\", \"linecolor\": \"white\", \"ticks\": \"\"}}, \"scene\": {\"xaxis\": {\"backgroundcolor\": \"#E5ECF6\", \"gridcolor\": \"white\", \"gridwidth\": 2, \"linecolor\": \"white\", \"showbackground\": true, \"ticks\": \"\", \"zerolinecolor\": \"white\"}, \"yaxis\": {\"backgroundcolor\": \"#E5ECF6\", \"gridcolor\": \"white\", \"gridwidth\": 2, \"linecolor\": \"white\", \"showbackground\": true, \"ticks\": \"\", \"zerolinecolor\": \"white\"}, \"zaxis\": {\"backgroundcolor\": \"#E5ECF6\", \"gridcolor\": \"white\", \"gridwidth\": 2, \"linecolor\": \"white\", \"showbackground\": true, \"ticks\": \"\", \"zerolinecolor\": \"white\"}}, \"shapedefaults\": {\"line\": {\"color\": \"#2a3f5f\"}}, \"ternary\": {\"aaxis\": {\"gridcolor\": \"white\", \"linecolor\": \"white\", \"ticks\": \"\"}, \"baxis\": {\"gridcolor\": \"white\", \"linecolor\": \"white\", \"ticks\": \"\"}, \"bgcolor\": \"#E5ECF6\", \"caxis\": {\"gridcolor\": \"white\", \"linecolor\": \"white\", \"ticks\": \"\"}}, \"title\": {\"x\": 0.05}, \"xaxis\": {\"automargin\": true, \"gridcolor\": \"white\", \"linecolor\": \"white\", \"ticks\": \"\", \"title\": {\"standoff\": 15}, \"zerolinecolor\": \"white\", \"zerolinewidth\": 2}, \"yaxis\": {\"automargin\": true, \"gridcolor\": \"white\", \"linecolor\": \"white\", \"ticks\": \"\", \"title\": {\"standoff\": 15}, \"zerolinecolor\": \"white\", \"zerolinewidth\": 2}}}, \"title\": {\"text\": \"The latest 802 tweets about the president candidate U.Khurelsukh\", \"x\": 0.5, \"xanchor\": \"center\", \"y\": 0.9, \"yanchor\": \"top\"}},\n",
              "                        {\"responsive\": true}\n",
              "                    ).then(function(){\n",
              "                            \n",
              "var gd = document.getElementById('7a304160-68df-41a7-a42e-7d29c91fd57d');\n",
              "var x = new MutationObserver(function (mutations, observer) {{\n",
              "        var display = window.getComputedStyle(gd).display;\n",
              "        if (!display || display === 'none') {{\n",
              "            console.log([gd, 'removed!']);\n",
              "            Plotly.purge(gd);\n",
              "            observer.disconnect();\n",
              "        }}\n",
              "}});\n",
              "\n",
              "// Listen for the removal of the full notebook cells\n",
              "var notebookContainer = gd.closest('#notebook-container');\n",
              "if (notebookContainer) {{\n",
              "    x.observe(notebookContainer, {childList: true});\n",
              "}}\n",
              "\n",
              "// Listen for the clearing of the current output cell\n",
              "var outputEl = gd.closest('.output');\n",
              "if (outputEl) {{\n",
              "    x.observe(outputEl, {childList: true});\n",
              "}}\n",
              "\n",
              "                        })\n",
              "                };\n",
              "                \n",
              "            </script>\n",
              "        </div>\n",
              "</body>\n",
              "</html>"
            ]
          },
          "metadata": {
            "tags": []
          }
        }
      ]
    },
    {
      "cell_type": "code",
      "metadata": {
        "id": "oApr2SIqGLwy"
      },
      "source": [
        "df_kh.to_csv('khurelsukh_with_sentiment.csv', index=False)"
      ],
      "execution_count": 49,
      "outputs": []
    },
    {
      "cell_type": "markdown",
      "metadata": {
        "id": "tEifsU_vEGoC"
      },
      "source": [
        "### D.Enkhbat"
      ]
    },
    {
      "cell_type": "code",
      "metadata": {
        "colab": {
          "base_uri": "https://localhost:8080/",
          "height": 442
        },
        "id": "lSRu0QHED_HD",
        "outputId": "1525296b-d543-4d94-9c41-a61dc53aa804"
      },
      "source": [
        "df_e['Expression Label'] = df_e.polarity.map(lambda x: labeling(x) )\n",
        "df_e.tail()"
      ],
      "execution_count": 42,
      "outputs": [
        {
          "output_type": "stream",
          "text": [
            "/usr/local/lib/python3.7/dist-packages/ipykernel_launcher.py:1: SettingWithCopyWarning:\n",
            "\n",
            "\n",
            "A value is trying to be set on a copy of a slice from a DataFrame.\n",
            "Try using .loc[row_indexer,col_indexer] = value instead\n",
            "\n",
            "See the caveats in the documentation: https://pandas.pydata.org/pandas-docs/stable/user_guide/indexing.html#returning-a-view-versus-a-copy\n",
            "\n"
          ],
          "name": "stderr"
        },
        {
          "output_type": "execute_result",
          "data": {
            "text/html": [
              "<div>\n",
              "<style scoped>\n",
              "    .dataframe tbody tr th:only-of-type {\n",
              "        vertical-align: middle;\n",
              "    }\n",
              "\n",
              "    .dataframe tbody tr th {\n",
              "        vertical-align: top;\n",
              "    }\n",
              "\n",
              "    .dataframe thead th {\n",
              "        text-align: right;\n",
              "    }\n",
              "</style>\n",
              "<table border=\"1\" class=\"dataframe\">\n",
              "  <thead>\n",
              "    <tr style=\"text-align: right;\">\n",
              "      <th></th>\n",
              "      <th>id</th>\n",
              "      <th>user</th>\n",
              "      <th>tweets</th>\n",
              "      <th>date</th>\n",
              "      <th>location</th>\n",
              "      <th>favorites</th>\n",
              "      <th>retweets</th>\n",
              "      <th>english</th>\n",
              "      <th>polarity</th>\n",
              "      <th>Expression Label</th>\n",
              "    </tr>\n",
              "  </thead>\n",
              "  <tbody>\n",
              "    <tr>\n",
              "      <th>795</th>\n",
              "      <td>1393052334033235969</td>\n",
              "      <td>Gereltod_Tsog</td>\n",
              "      <td>Энхбат гэдэг үгийг mute хийчихлээ 😆</td>\n",
              "      <td>2021-05-14 03:55:32</td>\n",
              "      <td>Mongolei</td>\n",
              "      <td>1</td>\n",
              "      <td>0</td>\n",
              "      <td>The word Enkhbat has been mute 😆</td>\n",
              "      <td>1.0</td>\n",
              "      <td>positive</td>\n",
              "    </tr>\n",
              "    <tr>\n",
              "      <th>796</th>\n",
              "      <td>1394165285347856388</td>\n",
              "      <td>Batusolu</td>\n",
              "      <td>Энхбат орж ирсэнээр Хүрэлсүх ерөнхийлөгч болох...</td>\n",
              "      <td>2021-05-17 05:38:01</td>\n",
              "      <td>хот</td>\n",
              "      <td>1</td>\n",
              "      <td>1</td>\n",
              "      <td>With Enkhbat coming in, the chances of Khurels...</td>\n",
              "      <td>0.5</td>\n",
              "      <td>positive</td>\n",
              "    </tr>\n",
              "    <tr>\n",
              "      <th>797</th>\n",
              "      <td>1394909744234594308</td>\n",
              "      <td>chaimkaaaa</td>\n",
              "      <td>@bo_ulzii Аанхаа энхбат начин би сая эхнэртэй ...</td>\n",
              "      <td>2021-05-19 06:56:13</td>\n",
              "      <td>Mongolia</td>\n",
              "      <td>1</td>\n",
              "      <td>0</td>\n",
              "      <td>@bo_ulzii Well, I just got in touch with his w...</td>\n",
              "      <td>0.1</td>\n",
              "      <td>neutral</td>\n",
              "    </tr>\n",
              "    <tr>\n",
              "      <th>798</th>\n",
              "      <td>1394508797205491713</td>\n",
              "      <td>Nyambaizula5</td>\n",
              "      <td>@Babrosk Энхбат байгаагүй бол интернэт байхгүй...</td>\n",
              "      <td>2021-05-18 04:23:00</td>\n",
              "      <td>Budapest, Hungary</td>\n",
              "      <td>1</td>\n",
              "      <td>0</td>\n",
              "      <td>@Babrosk He said that without Enkhbat, there w...</td>\n",
              "      <td>-1.0</td>\n",
              "      <td>negative</td>\n",
              "    </tr>\n",
              "    <tr>\n",
              "      <th>799</th>\n",
              "      <td>1393560958199549952</td>\n",
              "      <td>batjargaln</td>\n",
              "      <td>Хүрэлсүх: Би чинь муу ч гэсэн хурандаа хүн ш т...</td>\n",
              "      <td>2021-05-15 13:36:38</td>\n",
              "      <td>Somewhere in the Internet</td>\n",
              "      <td>1</td>\n",
              "      <td>0</td>\n",
              "      <td>Touch: I&amp;#39;m a bad colonel. Erdene: You can ...</td>\n",
              "      <td>-0.4</td>\n",
              "      <td>negative</td>\n",
              "    </tr>\n",
              "  </tbody>\n",
              "</table>\n",
              "</div>"
            ],
            "text/plain": [
              "                      id           user  ... polarity Expression Label\n",
              "795  1393052334033235969  Gereltod_Tsog  ...      1.0         positive\n",
              "796  1394165285347856388       Batusolu  ...      0.5         positive\n",
              "797  1394909744234594308     chaimkaaaa  ...      0.1          neutral\n",
              "798  1394508797205491713   Nyambaizula5  ...     -1.0         negative\n",
              "799  1393560958199549952     batjargaln  ...     -0.4         negative\n",
              "\n",
              "[5 rows x 10 columns]"
            ]
          },
          "metadata": {
            "tags": []
          },
          "execution_count": 42
        }
      ]
    },
    {
      "cell_type": "code",
      "metadata": {
        "colab": {
          "base_uri": "https://localhost:8080/",
          "height": 780
        },
        "id": "L97n9fvsErxf",
        "outputId": "03b8cae7-ee78-4252-c5be-de9dfea9124a"
      },
      "source": [
        "new1 = df_e.groupby('Expression Label').count()\n",
        "x = list(new1['polarity'])\n",
        "y = list(new1.index)\n",
        "tuple_list = list(zip(x,y))\n",
        "\n",
        "df = pd.DataFrame(tuple_list, columns=['x','y'])\n",
        "\n",
        "df['color'] = 'blue'\n",
        "df['color'][1] = 'red'\n",
        "df['color'][2] = 'green'\n",
        "\n",
        "import plotly.graph_objects as go\n",
        "fig = go.Figure(go.Bar(x=df['x'],\n",
        "                y=df['y'],\n",
        "                orientation ='h',\n",
        "                marker={'color': df['color']}))\n",
        "fig.update_layout(\n",
        "    title={\n",
        "        'text': \"The latest 800 tweets about the president candidate D.Enkhbat\",\n",
        "        'y':0.9,\n",
        "        'x':0.5,\n",
        "        'xanchor': 'center',\n",
        "        'yanchor': 'top'})\n",
        "\n",
        "\n",
        "fig.show()"
      ],
      "execution_count": 44,
      "outputs": [
        {
          "output_type": "stream",
          "text": [
            "/usr/local/lib/python3.7/dist-packages/ipykernel_launcher.py:9: SettingWithCopyWarning:\n",
            "\n",
            "\n",
            "A value is trying to be set on a copy of a slice from a DataFrame\n",
            "\n",
            "See the caveats in the documentation: https://pandas.pydata.org/pandas-docs/stable/user_guide/indexing.html#returning-a-view-versus-a-copy\n",
            "\n",
            "/usr/local/lib/python3.7/dist-packages/ipykernel_launcher.py:10: SettingWithCopyWarning:\n",
            "\n",
            "\n",
            "A value is trying to be set on a copy of a slice from a DataFrame\n",
            "\n",
            "See the caveats in the documentation: https://pandas.pydata.org/pandas-docs/stable/user_guide/indexing.html#returning-a-view-versus-a-copy\n",
            "\n"
          ],
          "name": "stderr"
        },
        {
          "output_type": "display_data",
          "data": {
            "text/html": [
              "<html>\n",
              "<head><meta charset=\"utf-8\" /></head>\n",
              "<body>\n",
              "    <div>\n",
              "            <script src=\"https://cdnjs.cloudflare.com/ajax/libs/mathjax/2.7.5/MathJax.js?config=TeX-AMS-MML_SVG\"></script><script type=\"text/javascript\">if (window.MathJax) {MathJax.Hub.Config({SVG: {font: \"STIX-Web\"}});}</script>\n",
              "                <script type=\"text/javascript\">window.PlotlyConfig = {MathJaxConfig: 'local'};</script>\n",
              "        <script src=\"https://cdn.plot.ly/plotly-latest.min.js\"></script>    \n",
              "            <div id=\"1bbd0529-9133-4db6-a56b-ebfd45ed7506\" class=\"plotly-graph-div\" style=\"height:525px; width:100%;\"></div>\n",
              "            <script type=\"text/javascript\">\n",
              "                \n",
              "                    window.PLOTLYENV=window.PLOTLYENV || {};\n",
              "                    \n",
              "                if (document.getElementById(\"1bbd0529-9133-4db6-a56b-ebfd45ed7506\")) {\n",
              "                    Plotly.newPlot(\n",
              "                        '1bbd0529-9133-4db6-a56b-ebfd45ed7506',\n",
              "                        [{\"marker\": {\"color\": [\"blue\", \"red\", \"green\"]}, \"orientation\": \"h\", \"type\": \"bar\", \"x\": [394, 203, 203], \"y\": [\"negative\", \"neutral\", \"positive\"]}],\n",
              "                        {\"template\": {\"data\": {\"bar\": [{\"error_x\": {\"color\": \"#2a3f5f\"}, \"error_y\": {\"color\": \"#2a3f5f\"}, \"marker\": {\"line\": {\"color\": \"#E5ECF6\", \"width\": 0.5}}, \"type\": \"bar\"}], \"barpolar\": [{\"marker\": {\"line\": {\"color\": \"#E5ECF6\", \"width\": 0.5}}, \"type\": \"barpolar\"}], \"carpet\": [{\"aaxis\": {\"endlinecolor\": \"#2a3f5f\", \"gridcolor\": \"white\", \"linecolor\": \"white\", \"minorgridcolor\": \"white\", \"startlinecolor\": \"#2a3f5f\"}, \"baxis\": {\"endlinecolor\": \"#2a3f5f\", \"gridcolor\": \"white\", \"linecolor\": \"white\", \"minorgridcolor\": \"white\", \"startlinecolor\": \"#2a3f5f\"}, \"type\": \"carpet\"}], \"choropleth\": [{\"colorbar\": {\"outlinewidth\": 0, \"ticks\": \"\"}, \"type\": \"choropleth\"}], \"contour\": [{\"colorbar\": {\"outlinewidth\": 0, \"ticks\": \"\"}, \"colorscale\": [[0.0, \"#0d0887\"], [0.1111111111111111, \"#46039f\"], [0.2222222222222222, \"#7201a8\"], [0.3333333333333333, \"#9c179e\"], [0.4444444444444444, \"#bd3786\"], [0.5555555555555556, \"#d8576b\"], [0.6666666666666666, \"#ed7953\"], [0.7777777777777778, \"#fb9f3a\"], [0.8888888888888888, \"#fdca26\"], [1.0, \"#f0f921\"]], \"type\": \"contour\"}], \"contourcarpet\": [{\"colorbar\": {\"outlinewidth\": 0, \"ticks\": \"\"}, \"type\": \"contourcarpet\"}], \"heatmap\": [{\"colorbar\": {\"outlinewidth\": 0, \"ticks\": \"\"}, \"colorscale\": [[0.0, \"#0d0887\"], [0.1111111111111111, \"#46039f\"], [0.2222222222222222, \"#7201a8\"], [0.3333333333333333, \"#9c179e\"], [0.4444444444444444, \"#bd3786\"], [0.5555555555555556, \"#d8576b\"], [0.6666666666666666, \"#ed7953\"], [0.7777777777777778, \"#fb9f3a\"], [0.8888888888888888, \"#fdca26\"], [1.0, \"#f0f921\"]], \"type\": \"heatmap\"}], \"heatmapgl\": [{\"colorbar\": {\"outlinewidth\": 0, \"ticks\": \"\"}, \"colorscale\": [[0.0, \"#0d0887\"], [0.1111111111111111, \"#46039f\"], [0.2222222222222222, \"#7201a8\"], [0.3333333333333333, \"#9c179e\"], [0.4444444444444444, \"#bd3786\"], [0.5555555555555556, \"#d8576b\"], [0.6666666666666666, \"#ed7953\"], [0.7777777777777778, \"#fb9f3a\"], [0.8888888888888888, \"#fdca26\"], [1.0, \"#f0f921\"]], \"type\": \"heatmapgl\"}], \"histogram\": [{\"marker\": {\"colorbar\": {\"outlinewidth\": 0, \"ticks\": \"\"}}, \"type\": \"histogram\"}], \"histogram2d\": [{\"colorbar\": {\"outlinewidth\": 0, \"ticks\": \"\"}, \"colorscale\": [[0.0, \"#0d0887\"], [0.1111111111111111, \"#46039f\"], [0.2222222222222222, \"#7201a8\"], [0.3333333333333333, \"#9c179e\"], [0.4444444444444444, \"#bd3786\"], [0.5555555555555556, \"#d8576b\"], [0.6666666666666666, \"#ed7953\"], [0.7777777777777778, \"#fb9f3a\"], [0.8888888888888888, \"#fdca26\"], [1.0, \"#f0f921\"]], \"type\": \"histogram2d\"}], \"histogram2dcontour\": [{\"colorbar\": {\"outlinewidth\": 0, \"ticks\": \"\"}, \"colorscale\": [[0.0, \"#0d0887\"], [0.1111111111111111, \"#46039f\"], [0.2222222222222222, \"#7201a8\"], [0.3333333333333333, \"#9c179e\"], [0.4444444444444444, \"#bd3786\"], [0.5555555555555556, \"#d8576b\"], [0.6666666666666666, \"#ed7953\"], [0.7777777777777778, \"#fb9f3a\"], [0.8888888888888888, \"#fdca26\"], [1.0, \"#f0f921\"]], \"type\": \"histogram2dcontour\"}], \"mesh3d\": [{\"colorbar\": {\"outlinewidth\": 0, \"ticks\": \"\"}, \"type\": \"mesh3d\"}], \"parcoords\": [{\"line\": {\"colorbar\": {\"outlinewidth\": 0, \"ticks\": \"\"}}, \"type\": \"parcoords\"}], \"pie\": [{\"automargin\": true, \"type\": \"pie\"}], \"scatter\": [{\"marker\": {\"colorbar\": {\"outlinewidth\": 0, \"ticks\": \"\"}}, \"type\": \"scatter\"}], \"scatter3d\": [{\"line\": {\"colorbar\": {\"outlinewidth\": 0, \"ticks\": \"\"}}, \"marker\": {\"colorbar\": {\"outlinewidth\": 0, \"ticks\": \"\"}}, \"type\": \"scatter3d\"}], \"scattercarpet\": [{\"marker\": {\"colorbar\": {\"outlinewidth\": 0, \"ticks\": \"\"}}, \"type\": \"scattercarpet\"}], \"scattergeo\": [{\"marker\": {\"colorbar\": {\"outlinewidth\": 0, \"ticks\": \"\"}}, \"type\": \"scattergeo\"}], \"scattergl\": [{\"marker\": {\"colorbar\": {\"outlinewidth\": 0, \"ticks\": \"\"}}, \"type\": \"scattergl\"}], \"scattermapbox\": [{\"marker\": {\"colorbar\": {\"outlinewidth\": 0, \"ticks\": \"\"}}, \"type\": \"scattermapbox\"}], \"scatterpolar\": [{\"marker\": {\"colorbar\": {\"outlinewidth\": 0, \"ticks\": \"\"}}, \"type\": \"scatterpolar\"}], \"scatterpolargl\": [{\"marker\": {\"colorbar\": {\"outlinewidth\": 0, \"ticks\": \"\"}}, \"type\": \"scatterpolargl\"}], \"scatterternary\": [{\"marker\": {\"colorbar\": {\"outlinewidth\": 0, \"ticks\": \"\"}}, \"type\": \"scatterternary\"}], \"surface\": [{\"colorbar\": {\"outlinewidth\": 0, \"ticks\": \"\"}, \"colorscale\": [[0.0, \"#0d0887\"], [0.1111111111111111, \"#46039f\"], [0.2222222222222222, \"#7201a8\"], [0.3333333333333333, \"#9c179e\"], [0.4444444444444444, \"#bd3786\"], [0.5555555555555556, \"#d8576b\"], [0.6666666666666666, \"#ed7953\"], [0.7777777777777778, \"#fb9f3a\"], [0.8888888888888888, \"#fdca26\"], [1.0, \"#f0f921\"]], \"type\": \"surface\"}], \"table\": [{\"cells\": {\"fill\": {\"color\": \"#EBF0F8\"}, \"line\": {\"color\": \"white\"}}, \"header\": {\"fill\": {\"color\": \"#C8D4E3\"}, \"line\": {\"color\": \"white\"}}, \"type\": \"table\"}]}, \"layout\": {\"annotationdefaults\": {\"arrowcolor\": \"#2a3f5f\", \"arrowhead\": 0, \"arrowwidth\": 1}, \"coloraxis\": {\"colorbar\": {\"outlinewidth\": 0, \"ticks\": \"\"}}, \"colorscale\": {\"diverging\": [[0, \"#8e0152\"], [0.1, \"#c51b7d\"], [0.2, \"#de77ae\"], [0.3, \"#f1b6da\"], [0.4, \"#fde0ef\"], [0.5, \"#f7f7f7\"], [0.6, \"#e6f5d0\"], [0.7, \"#b8e186\"], [0.8, \"#7fbc41\"], [0.9, \"#4d9221\"], [1, \"#276419\"]], \"sequential\": [[0.0, \"#0d0887\"], [0.1111111111111111, \"#46039f\"], [0.2222222222222222, \"#7201a8\"], [0.3333333333333333, \"#9c179e\"], [0.4444444444444444, \"#bd3786\"], [0.5555555555555556, \"#d8576b\"], [0.6666666666666666, \"#ed7953\"], [0.7777777777777778, \"#fb9f3a\"], [0.8888888888888888, \"#fdca26\"], [1.0, \"#f0f921\"]], \"sequentialminus\": [[0.0, \"#0d0887\"], [0.1111111111111111, \"#46039f\"], [0.2222222222222222, \"#7201a8\"], [0.3333333333333333, \"#9c179e\"], [0.4444444444444444, \"#bd3786\"], [0.5555555555555556, \"#d8576b\"], [0.6666666666666666, \"#ed7953\"], [0.7777777777777778, \"#fb9f3a\"], [0.8888888888888888, \"#fdca26\"], [1.0, \"#f0f921\"]]}, \"colorway\": [\"#636efa\", \"#EF553B\", \"#00cc96\", \"#ab63fa\", \"#FFA15A\", \"#19d3f3\", \"#FF6692\", \"#B6E880\", \"#FF97FF\", \"#FECB52\"], \"font\": {\"color\": \"#2a3f5f\"}, \"geo\": {\"bgcolor\": \"white\", \"lakecolor\": \"white\", \"landcolor\": \"#E5ECF6\", \"showlakes\": true, \"showland\": true, \"subunitcolor\": \"white\"}, \"hoverlabel\": {\"align\": \"left\"}, \"hovermode\": \"closest\", \"mapbox\": {\"style\": \"light\"}, \"paper_bgcolor\": \"white\", \"plot_bgcolor\": \"#E5ECF6\", \"polar\": {\"angularaxis\": {\"gridcolor\": \"white\", \"linecolor\": \"white\", \"ticks\": \"\"}, \"bgcolor\": \"#E5ECF6\", \"radialaxis\": {\"gridcolor\": \"white\", \"linecolor\": \"white\", \"ticks\": \"\"}}, \"scene\": {\"xaxis\": {\"backgroundcolor\": \"#E5ECF6\", \"gridcolor\": \"white\", \"gridwidth\": 2, \"linecolor\": \"white\", \"showbackground\": true, \"ticks\": \"\", \"zerolinecolor\": \"white\"}, \"yaxis\": {\"backgroundcolor\": \"#E5ECF6\", \"gridcolor\": \"white\", \"gridwidth\": 2, \"linecolor\": \"white\", \"showbackground\": true, \"ticks\": \"\", \"zerolinecolor\": \"white\"}, \"zaxis\": {\"backgroundcolor\": \"#E5ECF6\", \"gridcolor\": \"white\", \"gridwidth\": 2, \"linecolor\": \"white\", \"showbackground\": true, \"ticks\": \"\", \"zerolinecolor\": \"white\"}}, \"shapedefaults\": {\"line\": {\"color\": \"#2a3f5f\"}}, \"ternary\": {\"aaxis\": {\"gridcolor\": \"white\", \"linecolor\": \"white\", \"ticks\": \"\"}, \"baxis\": {\"gridcolor\": \"white\", \"linecolor\": \"white\", \"ticks\": \"\"}, \"bgcolor\": \"#E5ECF6\", \"caxis\": {\"gridcolor\": \"white\", \"linecolor\": \"white\", \"ticks\": \"\"}}, \"title\": {\"x\": 0.05}, \"xaxis\": {\"automargin\": true, \"gridcolor\": \"white\", \"linecolor\": \"white\", \"ticks\": \"\", \"title\": {\"standoff\": 15}, \"zerolinecolor\": \"white\", \"zerolinewidth\": 2}, \"yaxis\": {\"automargin\": true, \"gridcolor\": \"white\", \"linecolor\": \"white\", \"ticks\": \"\", \"title\": {\"standoff\": 15}, \"zerolinecolor\": \"white\", \"zerolinewidth\": 2}}}, \"title\": {\"text\": \"The latest 800 tweets about the president candidate D.Enkhbat\", \"x\": 0.5, \"xanchor\": \"center\", \"y\": 0.9, \"yanchor\": \"top\"}},\n",
              "                        {\"responsive\": true}\n",
              "                    ).then(function(){\n",
              "                            \n",
              "var gd = document.getElementById('1bbd0529-9133-4db6-a56b-ebfd45ed7506');\n",
              "var x = new MutationObserver(function (mutations, observer) {{\n",
              "        var display = window.getComputedStyle(gd).display;\n",
              "        if (!display || display === 'none') {{\n",
              "            console.log([gd, 'removed!']);\n",
              "            Plotly.purge(gd);\n",
              "            observer.disconnect();\n",
              "        }}\n",
              "}});\n",
              "\n",
              "// Listen for the removal of the full notebook cells\n",
              "var notebookContainer = gd.closest('#notebook-container');\n",
              "if (notebookContainer) {{\n",
              "    x.observe(notebookContainer, {childList: true});\n",
              "}}\n",
              "\n",
              "// Listen for the clearing of the current output cell\n",
              "var outputEl = gd.closest('.output');\n",
              "if (outputEl) {{\n",
              "    x.observe(outputEl, {childList: true});\n",
              "}}\n",
              "\n",
              "                        })\n",
              "                };\n",
              "                \n",
              "            </script>\n",
              "        </div>\n",
              "</body>\n",
              "</html>"
            ]
          },
          "metadata": {
            "tags": []
          }
        }
      ]
    },
    {
      "cell_type": "code",
      "metadata": {
        "id": "pAqG4iH3LZ_N"
      },
      "source": [
        "df=df_e.sort_values('date')\n",
        "df=df[['Expression Label','tweets']]\n",
        "df.to_csv('enkhbat_sent_analysis.csv', index=False)"
      ],
      "execution_count": 58,
      "outputs": []
    },
    {
      "cell_type": "code",
      "metadata": {
        "id": "tt0x-xYtGfbE"
      },
      "source": [
        "df_e.to_csv('enkhbat_with_sentiment.csv', index=False)"
      ],
      "execution_count": 50,
      "outputs": []
    },
    {
      "cell_type": "markdown",
      "metadata": {
        "id": "hWX6bH0IEKXE"
      },
      "source": [
        "### S.Erdene"
      ]
    },
    {
      "cell_type": "code",
      "metadata": {
        "id": "ZgofeDAHEM54"
      },
      "source": [
        "df_er=pd.read_csv('erdene.csv')\n",
        "df_er=df_er.head(800)"
      ],
      "execution_count": 46,
      "outputs": []
    },
    {
      "cell_type": "code",
      "metadata": {
        "id": "MFJ_ed_xFJdQ"
      },
      "source": [
        "# df_er['english']=df_er.tweets.map(lambda x:translate_it(x))\n",
        "df_er['polarity']=df_er.english.map(lambda x:do_sentiment(x))"
      ],
      "execution_count": 48,
      "outputs": []
    },
    {
      "cell_type": "code",
      "metadata": {
        "colab": {
          "base_uri": "https://localhost:8080/",
          "height": 306
        },
        "id": "R0JTGML_GmdC",
        "outputId": "0e11a8fe-c9a9-4d27-9dee-c31a1a6da5eb"
      },
      "source": [
        "df_er['Expression Label'] = df_er.polarity.map(lambda x: labeling(x) )\n",
        "df_er.tail()"
      ],
      "execution_count": 51,
      "outputs": [
        {
          "output_type": "execute_result",
          "data": {
            "text/html": [
              "<div>\n",
              "<style scoped>\n",
              "    .dataframe tbody tr th:only-of-type {\n",
              "        vertical-align: middle;\n",
              "    }\n",
              "\n",
              "    .dataframe tbody tr th {\n",
              "        vertical-align: top;\n",
              "    }\n",
              "\n",
              "    .dataframe thead th {\n",
              "        text-align: right;\n",
              "    }\n",
              "</style>\n",
              "<table border=\"1\" class=\"dataframe\">\n",
              "  <thead>\n",
              "    <tr style=\"text-align: right;\">\n",
              "      <th></th>\n",
              "      <th>id</th>\n",
              "      <th>user</th>\n",
              "      <th>tweets</th>\n",
              "      <th>date</th>\n",
              "      <th>location</th>\n",
              "      <th>favorites</th>\n",
              "      <th>retweets</th>\n",
              "      <th>english</th>\n",
              "      <th>polarity</th>\n",
              "      <th>Expression Label</th>\n",
              "    </tr>\n",
              "  </thead>\n",
              "  <tbody>\n",
              "    <tr>\n",
              "      <th>795</th>\n",
              "      <td>1394465909578756103</td>\n",
              "      <td>timemn</td>\n",
              "      <td>Л.Оюун-Эрдэнэ: Дэлхийд гарч болох соёлын бүх к...</td>\n",
              "      <td>2021-05-18 01:32:35</td>\n",
              "      <td>Mongolia</td>\n",
              "      <td>1</td>\n",
              "      <td>0</td>\n",
              "      <td>L.Oyun-Erdene: Government will support all cul...</td>\n",
              "      <td>1.0</td>\n",
              "      <td>positive</td>\n",
              "    </tr>\n",
              "    <tr>\n",
              "      <th>796</th>\n",
              "      <td>1394522457403367426</td>\n",
              "      <td>odmandahk0106</td>\n",
              "      <td>Би эрдэнэ мэт ганц саналаа С.Эрдэнэд өгнө гэж ...</td>\n",
              "      <td>2021-05-18 05:17:17</td>\n",
              "      <td>Hollands Kroon, Nederland</td>\n",
              "      <td>1</td>\n",
              "      <td>0</td>\n",
              "      <td>I decided to give my only vote to S.Erdene.</td>\n",
              "      <td>-1.0</td>\n",
              "      <td>negative</td>\n",
              "    </tr>\n",
              "    <tr>\n",
              "      <th>797</th>\n",
              "      <td>1394466420357046287</td>\n",
              "      <td>erdembileg2010</td>\n",
              "      <td>@AngaragDarigang Чам шиг янханд Эрдэнэ ямар га...</td>\n",
              "      <td>2021-05-18 01:34:37</td>\n",
              "      <td>NaN</td>\n",
              "      <td>1</td>\n",
              "      <td>1</td>\n",
              "      <td>@AngaragDarigang Erdene, what happened to a pr...</td>\n",
              "      <td>-1.0</td>\n",
              "      <td>negative</td>\n",
              "    </tr>\n",
              "    <tr>\n",
              "      <th>798</th>\n",
              "      <td>1394522197020999681</td>\n",
              "      <td>aagii896</td>\n",
              "      <td>@myagmardorj_ Тэгээд л нөгөө хэд нь эрдэнэ гээ...</td>\n",
              "      <td>2021-05-18 05:16:15</td>\n",
              "      <td>Mongolia</td>\n",
              "      <td>1</td>\n",
              "      <td>0</td>\n",
              "      <td>@myagmardorj_ So how many of them are begging ...</td>\n",
              "      <td>-1.0</td>\n",
              "      <td>negative</td>\n",
              "    </tr>\n",
              "    <tr>\n",
              "      <th>799</th>\n",
              "      <td>1395027396969918469</td>\n",
              "      <td>tsdulmaa1</td>\n",
              "      <td>Зөв санаа👍👍Л.Оюун-Эрдэнэ: Төгсөөд хөдөө очиж а...</td>\n",
              "      <td>2021-05-19 14:43:44</td>\n",
              "      <td>NaN</td>\n",
              "      <td>1</td>\n",
              "      <td>0</td>\n",
              "      <td>Right idea👍👍L.Oyun-Erdene: If you go to work i...</td>\n",
              "      <td>1.0</td>\n",
              "      <td>positive</td>\n",
              "    </tr>\n",
              "  </tbody>\n",
              "</table>\n",
              "</div>"
            ],
            "text/plain": [
              "                      id            user  ... polarity Expression Label\n",
              "795  1394465909578756103          timemn  ...      1.0         positive\n",
              "796  1394522457403367426   odmandahk0106  ...     -1.0         negative\n",
              "797  1394466420357046287  erdembileg2010  ...     -1.0         negative\n",
              "798  1394522197020999681        aagii896  ...     -1.0         negative\n",
              "799  1395027396969918469       tsdulmaa1  ...      1.0         positive\n",
              "\n",
              "[5 rows x 10 columns]"
            ]
          },
          "metadata": {
            "tags": []
          },
          "execution_count": 51
        }
      ]
    },
    {
      "cell_type": "code",
      "metadata": {
        "id": "3tSux-kdHSLq"
      },
      "source": [
        "df=df_er.sort_values('date')\n",
        "df=df[['Expression Label','tweets']]\n",
        "df.to_csv('s_erdene_sent_analysis.csv', index=False)"
      ],
      "execution_count": 57,
      "outputs": []
    },
    {
      "cell_type": "code",
      "metadata": {
        "colab": {
          "base_uri": "https://localhost:8080/",
          "height": 780
        },
        "id": "Z4THNrPlG0sO",
        "outputId": "13755d95-5ab5-4d06-de3f-47e0ea295dca"
      },
      "source": [
        "new1 = df_er.groupby('Expression Label').count()\n",
        "x = list(new1['polarity'])\n",
        "y = list(new1.index)\n",
        "tuple_list = list(zip(x,y))\n",
        "\n",
        "df = pd.DataFrame(tuple_list, columns=['x','y'])\n",
        "\n",
        "df['color'] = 'blue'\n",
        "df['color'][1] = 'red'\n",
        "df['color'][2] = 'green'\n",
        "\n",
        "import plotly.graph_objects as go\n",
        "fig = go.Figure(go.Bar(x=df['x'],\n",
        "                y=df['y'],\n",
        "                orientation ='h',\n",
        "                marker={'color': df['color']}))\n",
        "fig.update_layout(\n",
        "    title={\n",
        "        'text': \"The latest 800 tweets about the president candidate S.Erdene\",\n",
        "        'y':0.9,\n",
        "        'x':0.5,\n",
        "        'xanchor': 'center',\n",
        "        'yanchor': 'top'})\n",
        "\n",
        "\n",
        "fig.show()"
      ],
      "execution_count": 53,
      "outputs": [
        {
          "output_type": "stream",
          "text": [
            "/usr/local/lib/python3.7/dist-packages/ipykernel_launcher.py:9: SettingWithCopyWarning:\n",
            "\n",
            "\n",
            "A value is trying to be set on a copy of a slice from a DataFrame\n",
            "\n",
            "See the caveats in the documentation: https://pandas.pydata.org/pandas-docs/stable/user_guide/indexing.html#returning-a-view-versus-a-copy\n",
            "\n",
            "/usr/local/lib/python3.7/dist-packages/ipykernel_launcher.py:10: SettingWithCopyWarning:\n",
            "\n",
            "\n",
            "A value is trying to be set on a copy of a slice from a DataFrame\n",
            "\n",
            "See the caveats in the documentation: https://pandas.pydata.org/pandas-docs/stable/user_guide/indexing.html#returning-a-view-versus-a-copy\n",
            "\n"
          ],
          "name": "stderr"
        },
        {
          "output_type": "display_data",
          "data": {
            "text/html": [
              "<html>\n",
              "<head><meta charset=\"utf-8\" /></head>\n",
              "<body>\n",
              "    <div>\n",
              "            <script src=\"https://cdnjs.cloudflare.com/ajax/libs/mathjax/2.7.5/MathJax.js?config=TeX-AMS-MML_SVG\"></script><script type=\"text/javascript\">if (window.MathJax) {MathJax.Hub.Config({SVG: {font: \"STIX-Web\"}});}</script>\n",
              "                <script type=\"text/javascript\">window.PlotlyConfig = {MathJaxConfig: 'local'};</script>\n",
              "        <script src=\"https://cdn.plot.ly/plotly-latest.min.js\"></script>    \n",
              "            <div id=\"005070cf-36e7-4487-a655-edafc9e14bd3\" class=\"plotly-graph-div\" style=\"height:525px; width:100%;\"></div>\n",
              "            <script type=\"text/javascript\">\n",
              "                \n",
              "                    window.PLOTLYENV=window.PLOTLYENV || {};\n",
              "                    \n",
              "                if (document.getElementById(\"005070cf-36e7-4487-a655-edafc9e14bd3\")) {\n",
              "                    Plotly.newPlot(\n",
              "                        '005070cf-36e7-4487-a655-edafc9e14bd3',\n",
              "                        [{\"marker\": {\"color\": [\"blue\", \"red\", \"green\"]}, \"orientation\": \"h\", \"type\": \"bar\", \"x\": [357, 124, 319], \"y\": [\"negative\", \"neutral\", \"positive\"]}],\n",
              "                        {\"template\": {\"data\": {\"bar\": [{\"error_x\": {\"color\": \"#2a3f5f\"}, \"error_y\": {\"color\": \"#2a3f5f\"}, \"marker\": {\"line\": {\"color\": \"#E5ECF6\", \"width\": 0.5}}, \"type\": \"bar\"}], \"barpolar\": [{\"marker\": {\"line\": {\"color\": \"#E5ECF6\", \"width\": 0.5}}, \"type\": \"barpolar\"}], \"carpet\": [{\"aaxis\": {\"endlinecolor\": \"#2a3f5f\", \"gridcolor\": \"white\", \"linecolor\": \"white\", \"minorgridcolor\": \"white\", \"startlinecolor\": \"#2a3f5f\"}, \"baxis\": {\"endlinecolor\": \"#2a3f5f\", \"gridcolor\": \"white\", \"linecolor\": \"white\", \"minorgridcolor\": \"white\", \"startlinecolor\": \"#2a3f5f\"}, \"type\": \"carpet\"}], \"choropleth\": [{\"colorbar\": {\"outlinewidth\": 0, \"ticks\": \"\"}, \"type\": \"choropleth\"}], \"contour\": [{\"colorbar\": {\"outlinewidth\": 0, \"ticks\": \"\"}, \"colorscale\": [[0.0, \"#0d0887\"], [0.1111111111111111, \"#46039f\"], [0.2222222222222222, \"#7201a8\"], [0.3333333333333333, \"#9c179e\"], [0.4444444444444444, \"#bd3786\"], [0.5555555555555556, \"#d8576b\"], [0.6666666666666666, \"#ed7953\"], [0.7777777777777778, \"#fb9f3a\"], [0.8888888888888888, \"#fdca26\"], [1.0, \"#f0f921\"]], \"type\": \"contour\"}], \"contourcarpet\": [{\"colorbar\": {\"outlinewidth\": 0, \"ticks\": \"\"}, \"type\": \"contourcarpet\"}], \"heatmap\": [{\"colorbar\": {\"outlinewidth\": 0, \"ticks\": \"\"}, \"colorscale\": [[0.0, \"#0d0887\"], [0.1111111111111111, \"#46039f\"], [0.2222222222222222, \"#7201a8\"], [0.3333333333333333, \"#9c179e\"], [0.4444444444444444, \"#bd3786\"], [0.5555555555555556, \"#d8576b\"], [0.6666666666666666, \"#ed7953\"], [0.7777777777777778, \"#fb9f3a\"], [0.8888888888888888, \"#fdca26\"], [1.0, \"#f0f921\"]], \"type\": \"heatmap\"}], \"heatmapgl\": [{\"colorbar\": {\"outlinewidth\": 0, \"ticks\": \"\"}, \"colorscale\": [[0.0, \"#0d0887\"], [0.1111111111111111, \"#46039f\"], [0.2222222222222222, \"#7201a8\"], [0.3333333333333333, \"#9c179e\"], [0.4444444444444444, \"#bd3786\"], [0.5555555555555556, \"#d8576b\"], [0.6666666666666666, \"#ed7953\"], [0.7777777777777778, \"#fb9f3a\"], [0.8888888888888888, \"#fdca26\"], [1.0, \"#f0f921\"]], \"type\": \"heatmapgl\"}], \"histogram\": [{\"marker\": {\"colorbar\": {\"outlinewidth\": 0, \"ticks\": \"\"}}, \"type\": \"histogram\"}], \"histogram2d\": [{\"colorbar\": {\"outlinewidth\": 0, \"ticks\": \"\"}, \"colorscale\": [[0.0, \"#0d0887\"], [0.1111111111111111, \"#46039f\"], [0.2222222222222222, \"#7201a8\"], [0.3333333333333333, \"#9c179e\"], [0.4444444444444444, \"#bd3786\"], [0.5555555555555556, \"#d8576b\"], [0.6666666666666666, \"#ed7953\"], [0.7777777777777778, \"#fb9f3a\"], [0.8888888888888888, \"#fdca26\"], [1.0, \"#f0f921\"]], \"type\": \"histogram2d\"}], \"histogram2dcontour\": [{\"colorbar\": {\"outlinewidth\": 0, \"ticks\": \"\"}, \"colorscale\": [[0.0, \"#0d0887\"], [0.1111111111111111, \"#46039f\"], [0.2222222222222222, \"#7201a8\"], [0.3333333333333333, \"#9c179e\"], [0.4444444444444444, \"#bd3786\"], [0.5555555555555556, \"#d8576b\"], [0.6666666666666666, \"#ed7953\"], [0.7777777777777778, \"#fb9f3a\"], [0.8888888888888888, \"#fdca26\"], [1.0, \"#f0f921\"]], \"type\": \"histogram2dcontour\"}], \"mesh3d\": [{\"colorbar\": {\"outlinewidth\": 0, \"ticks\": \"\"}, \"type\": \"mesh3d\"}], \"parcoords\": [{\"line\": {\"colorbar\": {\"outlinewidth\": 0, \"ticks\": \"\"}}, \"type\": \"parcoords\"}], \"pie\": [{\"automargin\": true, \"type\": \"pie\"}], \"scatter\": [{\"marker\": {\"colorbar\": {\"outlinewidth\": 0, \"ticks\": \"\"}}, \"type\": \"scatter\"}], \"scatter3d\": [{\"line\": {\"colorbar\": {\"outlinewidth\": 0, \"ticks\": \"\"}}, \"marker\": {\"colorbar\": {\"outlinewidth\": 0, \"ticks\": \"\"}}, \"type\": \"scatter3d\"}], \"scattercarpet\": [{\"marker\": {\"colorbar\": {\"outlinewidth\": 0, \"ticks\": \"\"}}, \"type\": \"scattercarpet\"}], \"scattergeo\": [{\"marker\": {\"colorbar\": {\"outlinewidth\": 0, \"ticks\": \"\"}}, \"type\": \"scattergeo\"}], \"scattergl\": [{\"marker\": {\"colorbar\": {\"outlinewidth\": 0, \"ticks\": \"\"}}, \"type\": \"scattergl\"}], \"scattermapbox\": [{\"marker\": {\"colorbar\": {\"outlinewidth\": 0, \"ticks\": \"\"}}, \"type\": \"scattermapbox\"}], \"scatterpolar\": [{\"marker\": {\"colorbar\": {\"outlinewidth\": 0, \"ticks\": \"\"}}, \"type\": \"scatterpolar\"}], \"scatterpolargl\": [{\"marker\": {\"colorbar\": {\"outlinewidth\": 0, \"ticks\": \"\"}}, \"type\": \"scatterpolargl\"}], \"scatterternary\": [{\"marker\": {\"colorbar\": {\"outlinewidth\": 0, \"ticks\": \"\"}}, \"type\": \"scatterternary\"}], \"surface\": [{\"colorbar\": {\"outlinewidth\": 0, \"ticks\": \"\"}, \"colorscale\": [[0.0, \"#0d0887\"], [0.1111111111111111, \"#46039f\"], [0.2222222222222222, \"#7201a8\"], [0.3333333333333333, \"#9c179e\"], [0.4444444444444444, \"#bd3786\"], [0.5555555555555556, \"#d8576b\"], [0.6666666666666666, \"#ed7953\"], [0.7777777777777778, \"#fb9f3a\"], [0.8888888888888888, \"#fdca26\"], [1.0, \"#f0f921\"]], \"type\": \"surface\"}], \"table\": [{\"cells\": {\"fill\": {\"color\": \"#EBF0F8\"}, \"line\": {\"color\": \"white\"}}, \"header\": {\"fill\": {\"color\": \"#C8D4E3\"}, \"line\": {\"color\": \"white\"}}, \"type\": \"table\"}]}, \"layout\": {\"annotationdefaults\": {\"arrowcolor\": \"#2a3f5f\", \"arrowhead\": 0, \"arrowwidth\": 1}, \"coloraxis\": {\"colorbar\": {\"outlinewidth\": 0, \"ticks\": \"\"}}, \"colorscale\": {\"diverging\": [[0, \"#8e0152\"], [0.1, \"#c51b7d\"], [0.2, \"#de77ae\"], [0.3, \"#f1b6da\"], [0.4, \"#fde0ef\"], [0.5, \"#f7f7f7\"], [0.6, \"#e6f5d0\"], [0.7, \"#b8e186\"], [0.8, \"#7fbc41\"], [0.9, \"#4d9221\"], [1, \"#276419\"]], \"sequential\": [[0.0, \"#0d0887\"], [0.1111111111111111, \"#46039f\"], [0.2222222222222222, \"#7201a8\"], [0.3333333333333333, \"#9c179e\"], [0.4444444444444444, \"#bd3786\"], [0.5555555555555556, \"#d8576b\"], [0.6666666666666666, \"#ed7953\"], [0.7777777777777778, \"#fb9f3a\"], [0.8888888888888888, \"#fdca26\"], [1.0, \"#f0f921\"]], \"sequentialminus\": [[0.0, \"#0d0887\"], [0.1111111111111111, \"#46039f\"], [0.2222222222222222, \"#7201a8\"], [0.3333333333333333, \"#9c179e\"], [0.4444444444444444, \"#bd3786\"], [0.5555555555555556, \"#d8576b\"], [0.6666666666666666, \"#ed7953\"], [0.7777777777777778, \"#fb9f3a\"], [0.8888888888888888, \"#fdca26\"], [1.0, \"#f0f921\"]]}, \"colorway\": [\"#636efa\", \"#EF553B\", \"#00cc96\", \"#ab63fa\", \"#FFA15A\", \"#19d3f3\", \"#FF6692\", \"#B6E880\", \"#FF97FF\", \"#FECB52\"], \"font\": {\"color\": \"#2a3f5f\"}, \"geo\": {\"bgcolor\": \"white\", \"lakecolor\": \"white\", \"landcolor\": \"#E5ECF6\", \"showlakes\": true, \"showland\": true, \"subunitcolor\": \"white\"}, \"hoverlabel\": {\"align\": \"left\"}, \"hovermode\": \"closest\", \"mapbox\": {\"style\": \"light\"}, \"paper_bgcolor\": \"white\", \"plot_bgcolor\": \"#E5ECF6\", \"polar\": {\"angularaxis\": {\"gridcolor\": \"white\", \"linecolor\": \"white\", \"ticks\": \"\"}, \"bgcolor\": \"#E5ECF6\", \"radialaxis\": {\"gridcolor\": \"white\", \"linecolor\": \"white\", \"ticks\": \"\"}}, \"scene\": {\"xaxis\": {\"backgroundcolor\": \"#E5ECF6\", \"gridcolor\": \"white\", \"gridwidth\": 2, \"linecolor\": \"white\", \"showbackground\": true, \"ticks\": \"\", \"zerolinecolor\": \"white\"}, \"yaxis\": {\"backgroundcolor\": \"#E5ECF6\", \"gridcolor\": \"white\", \"gridwidth\": 2, \"linecolor\": \"white\", \"showbackground\": true, \"ticks\": \"\", \"zerolinecolor\": \"white\"}, \"zaxis\": {\"backgroundcolor\": \"#E5ECF6\", \"gridcolor\": \"white\", \"gridwidth\": 2, \"linecolor\": \"white\", \"showbackground\": true, \"ticks\": \"\", \"zerolinecolor\": \"white\"}}, \"shapedefaults\": {\"line\": {\"color\": \"#2a3f5f\"}}, \"ternary\": {\"aaxis\": {\"gridcolor\": \"white\", \"linecolor\": \"white\", \"ticks\": \"\"}, \"baxis\": {\"gridcolor\": \"white\", \"linecolor\": \"white\", \"ticks\": \"\"}, \"bgcolor\": \"#E5ECF6\", \"caxis\": {\"gridcolor\": \"white\", \"linecolor\": \"white\", \"ticks\": \"\"}}, \"title\": {\"x\": 0.05}, \"xaxis\": {\"automargin\": true, \"gridcolor\": \"white\", \"linecolor\": \"white\", \"ticks\": \"\", \"title\": {\"standoff\": 15}, \"zerolinecolor\": \"white\", \"zerolinewidth\": 2}, \"yaxis\": {\"automargin\": true, \"gridcolor\": \"white\", \"linecolor\": \"white\", \"ticks\": \"\", \"title\": {\"standoff\": 15}, \"zerolinecolor\": \"white\", \"zerolinewidth\": 2}}}, \"title\": {\"text\": \"The latest 800 tweets about the president candidate S.Erdene\", \"x\": 0.5, \"xanchor\": \"center\", \"y\": 0.9, \"yanchor\": \"top\"}},\n",
              "                        {\"responsive\": true}\n",
              "                    ).then(function(){\n",
              "                            \n",
              "var gd = document.getElementById('005070cf-36e7-4487-a655-edafc9e14bd3');\n",
              "var x = new MutationObserver(function (mutations, observer) {{\n",
              "        var display = window.getComputedStyle(gd).display;\n",
              "        if (!display || display === 'none') {{\n",
              "            console.log([gd, 'removed!']);\n",
              "            Plotly.purge(gd);\n",
              "            observer.disconnect();\n",
              "        }}\n",
              "}});\n",
              "\n",
              "// Listen for the removal of the full notebook cells\n",
              "var notebookContainer = gd.closest('#notebook-container');\n",
              "if (notebookContainer) {{\n",
              "    x.observe(notebookContainer, {childList: true});\n",
              "}}\n",
              "\n",
              "// Listen for the clearing of the current output cell\n",
              "var outputEl = gd.closest('.output');\n",
              "if (outputEl) {{\n",
              "    x.observe(outputEl, {childList: true});\n",
              "}}\n",
              "\n",
              "                        })\n",
              "                };\n",
              "                \n",
              "            </script>\n",
              "        </div>\n",
              "</body>\n",
              "</html>"
            ]
          },
          "metadata": {
            "tags": []
          }
        }
      ]
    }
  ]
}